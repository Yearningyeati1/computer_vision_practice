{
 "cells": [
  {
   "cell_type": "markdown",
   "metadata": {},
   "source": [
    "<table>\n",
    "<tr>\n",
    "<td width=15%><img src=\"https://www.nitrkl.ac.in/assets/images/logo.png\"></img></td>\n",
    "<td><center><h1>National Institute of Technology\n",
    "Rourkela, Odisha, India, 769008</h1><h2>Department of Computer Science Engineering</h2></center></td>\n",
    "</tr>\n",
    "<tr><td colspan=2><center><h3>Lab-1: Computer Vision Lab</h3></center></br>\n",
    "            <center><b>(Assignment-0)</b></center></td></tr>\n",
    "</table>"
   ]
  },
  {
   "cell_type": "markdown",
   "metadata": {},
   "source": [
    "_____\n",
    "**Write a program to print your name**"
   ]
  },
  {
   "cell_type": "code",
   "execution_count": 1,
   "metadata": {},
   "outputs": [
    {
     "name": "stdout",
     "output_type": "stream",
     "text": [
      "Amiya Chowdhury\n"
     ]
    }
   ],
   "source": [
    "print(\"Amiya Chowdhury\")"
   ]
  },
  {
   "cell_type": "markdown",
   "metadata": {},
   "source": [
    "______\n",
    "**Write a program to accept two numbers and add, subtract and divide them**"
   ]
  },
  {
   "cell_type": "code",
   "execution_count": 18,
   "metadata": {},
   "outputs": [
    {
     "name": "stdout",
     "output_type": "stream",
     "text": [
      "Enter Number:21\n",
      "Enter Number:20\n",
      "A+B= 41\n",
      "A-B= 1\n",
      "A/B= 1.05\n"
     ]
    }
   ],
   "source": [
    "a=eval(input(\"Enter Number:\"))\n",
    "b=eval(input(\"Enter Number:\"))\n",
    "print(\"A+B=\",a+b)\n",
    "print(\"A-B=\",a-b)\n",
    "print(\"A/B=\",a/b)"
   ]
  },
  {
   "cell_type": "markdown",
   "metadata": {},
   "source": [
    "___\n",
    "**Write a program to accept two strings and concate them**"
   ]
  },
  {
   "cell_type": "code",
   "execution_count": 10,
   "metadata": {},
   "outputs": [
    {
     "name": "stdout",
     "output_type": "stream",
     "text": [
      "Enter String 1:Mary\n",
      "Enter String 2:Had a Little Lamb\n",
      "Strings Concatenated: MaryHad a Little Lamb\n"
     ]
    }
   ],
   "source": [
    "str1=input(\"Enter String 1:\")\n",
    "str2=input(\"Enter String 2:\")\n",
    "print(\"Strings Concatenated:\",str1+str2)\n"
   ]
  },
  {
   "cell_type": "markdown",
   "metadata": {},
   "source": [
    "___\n",
    "**Write a program to accept three numbers and find the greatest among the three numbers**"
   ]
  },
  {
   "cell_type": "code",
   "execution_count": 19,
   "metadata": {},
   "outputs": [
    {
     "name": "stdout",
     "output_type": "stream",
     "text": [
      "Enter 3 comma separated numbers:21,45,91\n",
      "Max of : (21, 45, 91) is 91\n"
     ]
    }
   ],
   "source": [
    "l=eval(input(\"Enter 3 comma separated numbers:\"))\n",
    "print(\"Max of :\",l,\"is\",max(l))"
   ]
  },
  {
   "cell_type": "markdown",
   "metadata": {},
   "source": [
    "___\n",
    "**Write a program to print \"India is the best\" 10 times**"
   ]
  },
  {
   "cell_type": "code",
   "execution_count": 21,
   "metadata": {},
   "outputs": [
    {
     "name": "stdout",
     "output_type": "stream",
     "text": [
      "India is the best\n",
      "India is the best\n",
      "India is the best\n",
      "India is the best\n",
      "India is the best\n",
      "India is the best\n",
      "India is the best\n",
      "India is the best\n",
      "India is the best\n",
      "India is the best\n"
     ]
    }
   ],
   "source": [
    "i=10\n",
    "while (i>0):\n",
    "    print(\"India is the best\")\n",
    "    i-=1"
   ]
  },
  {
   "cell_type": "markdown",
   "metadata": {},
   "source": [
    "### Great Job!"
   ]
  }
 ],
 "metadata": {
  "kernelspec": {
   "display_name": "Python 3 (ipykernel)",
   "language": "python",
   "name": "python3"
  },
  "language_info": {
   "codemirror_mode": {
    "name": "ipython",
    "version": 3
   },
   "file_extension": ".py",
   "mimetype": "text/x-python",
   "name": "python",
   "nbconvert_exporter": "python",
   "pygments_lexer": "ipython3",
   "version": "3.9.13"
  }
 },
 "nbformat": 4,
 "nbformat_minor": 4
}
