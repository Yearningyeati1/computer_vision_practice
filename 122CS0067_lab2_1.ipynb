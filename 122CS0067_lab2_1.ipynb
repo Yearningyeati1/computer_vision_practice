{
 "cells": [
  {
   "cell_type": "markdown",
   "metadata": {},
   "source": [
    "<table>\n",
    "<tr>\n",
    "<td width=15%><img src=\"https://www.nitrkl.ac.in/assets/images/logo.png\"></img></td>\n",
    "<td><center><h1>National Institute of Technology\n",
    "Rourkela, Odisha, India, 769008</h1><h2>Department of Computer Science Engineering</h2></center></td>\n",
    "</tr>\n",
    "<tr><td colspan=2><center><h3>Lab-1: Computer Vision Lab</h3></center></br>\n",
    "            <center><b>(Assignment-4)</b></center></td></tr>\n",
    "</table>"
   ]
  },
  {
   "cell_type": "markdown",
   "metadata": {},
   "source": [
    "**122CS0067**\n",
    "\n",
    "**Write a program to create an array [10, 5, 7, 20, 15, -9, 33], print it, Find the maximum and minimum Value of the array**"
   ]
  },
  {
   "cell_type": "code",
   "execution_count": 17,
   "metadata": {},
   "outputs": [
    {
     "name": "stdout",
     "output_type": "stream",
     "text": [
      "[10  5  7 20 -9 33]\n",
      "33\n",
      "-9\n"
     ]
    }
   ],
   "source": [
    "#Code here\n",
    "import numpy as np\n",
    "arr=np.array([10,5,7,20,-9,33],dtype='i4')\n",
    "print(arr)\n",
    "print(np.max(arr))\n",
    "print(np.min(arr))"
   ]
  },
  {
   "cell_type": "markdown",
   "metadata": {},
   "source": [
    "______\n",
    "**Write a program to accept an array of elements and find the maximum without using max function**"
   ]
  },
  {
   "cell_type": "code",
   "execution_count": 4,
   "metadata": {},
   "outputs": [
    {
     "name": "stdout",
     "output_type": "stream",
     "text": [
      "Enter a sequence of numbers:1 2 3 4 5 6 7 8 9\n",
      "9\n"
     ]
    }
   ],
   "source": [
    "#Code here\n",
    "def find_max(arr):\n",
    "    max=arr[0]\n",
    "    for i in range(1,len(arr)):\n",
    "        if(arr[i]>max):\n",
    "            max=arr[i]\n",
    "    return max\n",
    "\n",
    "arr=np.array(input(\"Enter a sequence of numbers:\").split(),dtype='i4')\n",
    "print(find_max(arr))"
   ]
  },
  {
   "cell_type": "markdown",
   "metadata": {},
   "source": [
    "___\n",
    "**Write a program to accept two matrices [[1,2],[3,4]],   [[2,4],[6,8]]and find the sum and subtraction of two matrices**"
   ]
  },
  {
   "cell_type": "code",
   "execution_count": 5,
   "metadata": {},
   "outputs": [
    {
     "name": "stdout",
     "output_type": "stream",
     "text": [
      "Sum of arrays:\n",
      "[[ 3  6]\n",
      " [ 9 12]]\n",
      "Subtraction of arrays:\n",
      "[[-1 -2]\n",
      " [-3 -4]]\n"
     ]
    }
   ],
   "source": [
    "#Code here\n",
    "arr1=np.array([[1,2],[3,4]])\n",
    "arr2=np.array([[2,4],[6,8]])\n",
    "\n",
    "print(\"Sum of arrays:\")\n",
    "print(arr1+arr2)\n",
    "print(\"Subtraction of arrays:\")\n",
    "print(arr1-arr2)"
   ]
  },
  {
   "cell_type": "markdown",
   "metadata": {},
   "source": [
    "___\n",
    "**Write a program to generate a ranodom matrix of size 5 X 6. Add another row containing random elements to it. Find the sum of each row.**"
   ]
  },
  {
   "cell_type": "code",
   "execution_count": 11,
   "metadata": {},
   "outputs": [
    {
     "name": "stdout",
     "output_type": "stream",
     "text": [
      "[[0.80101995 0.15962612 0.91702509 0.39406511 0.92474347 0.67804911]\n",
      " [0.41484044 0.80585317 0.44943229 0.89152709 0.89425904 0.13673147]\n",
      " [0.71995734 0.56061631 0.36479602 0.69334633 0.86088331 0.73703142]\n",
      " [0.26209257 0.66523565 0.30072961 0.89699497 0.14388001 0.92952429]\n",
      " [0.33453436 0.50968614 0.36776617 0.02701947 0.78711749 0.2891583 ]]\n",
      "[[0.89036046 0.75766903 0.48879639 0.32686625 0.53098173 0.60507645]]\n",
      "\n",
      "Stacked Arrays:\n",
      "[[0.80101995 0.15962612 0.91702509 0.39406511 0.92474347 0.67804911]\n",
      " [0.41484044 0.80585317 0.44943229 0.89152709 0.89425904 0.13673147]\n",
      " [0.71995734 0.56061631 0.36479602 0.69334633 0.86088331 0.73703142]\n",
      " [0.26209257 0.66523565 0.30072961 0.89699497 0.14388001 0.92952429]\n",
      " [0.33453436 0.50968614 0.36776617 0.02701947 0.78711749 0.2891583 ]\n",
      " [0.89036046 0.75766903 0.48879639 0.32686625 0.53098173 0.60507645]]\n",
      "Sum of Rows:\n",
      "[[3.87452886]\n",
      " [3.5926435 ]\n",
      " [3.93663072]\n",
      " [3.19845711]\n",
      " [2.31528193]\n",
      " [3.59975031]]\n"
     ]
    }
   ],
   "source": [
    "#Code here\n",
    "arr1=np.random.rand(5,6)\n",
    "temp=np.random.rand(1,6)\n",
    "\n",
    "print(arr1)\n",
    "print(temp)\n",
    "print()\n",
    "\n",
    "arr1=np.vstack([arr1,temp])\n",
    "print(\"Stacked Arrays:\")\n",
    "print(arr1)\n",
    "\n",
    "print(\"Sum of Rows:\")\n",
    "print(np.sum(arr1,axis=1,keepdims=True))"
   ]
  },
  {
   "cell_type": "markdown",
   "metadata": {},
   "source": [
    "___\n",
    "**Write a program to generate a ranodm integer matrix of size 5 X 6. Add another column containing random integers to it. Compute the sine of each element and print it**"
   ]
  },
  {
   "cell_type": "code",
   "execution_count": 13,
   "metadata": {},
   "outputs": [
    {
     "name": "stdout",
     "output_type": "stream",
     "text": [
      "[[0.61300304 0.95604866 0.28943806 0.38520066 0.58287204 0.63831513]\n",
      " [0.42711313 0.64319248 0.11416293 0.78703459 0.18067443 0.55348803]\n",
      " [0.08957196 0.72970765 0.07278833 0.38310447 0.48247649 0.39887899]\n",
      " [0.21768079 0.50619751 0.20794264 0.24792815 0.17339226 0.1358341 ]\n",
      " [0.05656799 0.7541751  0.41326292 0.36157031 0.81035469 0.80020225]]\n",
      "[[0.31680343]\n",
      " [0.19418628]\n",
      " [0.11210502]\n",
      " [0.62522914]\n",
      " [0.54364083]]\n",
      "\n",
      "Stacked Arrays(Adding Column):\n",
      "[[0.61300304 0.95604866 0.28943806 0.38520066 0.58287204 0.63831513\n",
      "  0.31680343]\n",
      " [0.42711313 0.64319248 0.11416293 0.78703459 0.18067443 0.55348803\n",
      "  0.19418628]\n",
      " [0.08957196 0.72970765 0.07278833 0.38310447 0.48247649 0.39887899\n",
      "  0.11210502]\n",
      " [0.21768079 0.50619751 0.20794264 0.24792815 0.17339226 0.1358341\n",
      "  0.62522914]\n",
      " [0.05656799 0.7541751  0.41326292 0.36157031 0.81035469 0.80020225\n",
      "  0.54364083]]\n",
      "Sine of each element:\n",
      "[[0.57532631 0.81691901 0.2854137  0.3757451  0.55042403 0.59584317\n",
      "  0.31153066]\n",
      " [0.414245   0.59975307 0.1139151  0.70826296 0.17969306 0.52565767\n",
      "  0.19296817]\n",
      " [0.08945223 0.66665175 0.07272407 0.37380168 0.46397439 0.38838558\n",
      "  0.11187036]\n",
      " [0.21596573 0.48485512 0.2064473  0.24539599 0.17252473 0.13541677\n",
      "  0.58528308]\n",
      " [0.05653782 0.68468769 0.40159969 0.35374344 0.72453169 0.71749699\n",
      "  0.51725535]]\n"
     ]
    }
   ],
   "source": [
    "#Code here\n",
    "arr1=np.random.rand(5,6)\n",
    "temp=np.random.rand(5,1)\n",
    "\n",
    "print(arr1)\n",
    "print(temp)\n",
    "print()\n",
    "\n",
    "arr1=np.hstack([arr1,temp])\n",
    "print(\"Stacked Arrays(Adding Column):\")\n",
    "print(arr1)\n",
    "\n",
    "print(\"Sine of each element:\")\n",
    "print(np.sin(arr1))\n"
   ]
  },
  {
   "cell_type": "markdown",
   "metadata": {},
   "source": [
    "___\n",
    "**Write a program to generate a ranodm matrix of size 5 X 6. Consider the 3rd and 4th row; and 2nd, 3rd and 4th column and print the resultant matrix using slicing**"
   ]
  },
  {
   "cell_type": "code",
   "execution_count": 15,
   "metadata": {},
   "outputs": [
    {
     "name": "stdout",
     "output_type": "stream",
     "text": [
      "[[-0.91444257 -0.20029582 -0.54476668  1.8411386  -0.34082676 -0.16408852]\n",
      " [-1.26085401 -0.76215128 -0.9875403   0.8211795  -1.30541886  1.1861291 ]\n",
      " [-0.88382244 -1.30002369 -1.21064744 -1.07049077  2.14253915  0.80815083]\n",
      " [-0.43674451 -0.86474471 -1.68848288 -0.93509356 -1.79786079 -0.67437041]\n",
      " [ 0.75636154  0.5262816   1.47298724 -0.69820589 -0.32861711  0.74637881]]\n",
      "\n",
      "[[-1.30002369 -1.21064744 -1.07049077]\n",
      " [-0.86474471 -1.68848288 -0.93509356]]\n"
     ]
    }
   ],
   "source": [
    "#Code here\n",
    "\n",
    "arr1=np.random.randn(5,6)\n",
    "\n",
    "temp=arr1[2:4,1:4]\n",
    "\n",
    "print(arr1)\n",
    "\n",
    "print()\n",
    "\n",
    "print(temp)"
   ]
  },
  {
   "cell_type": "markdown",
   "metadata": {},
   "source": [
    "### Great Job!"
   ]
  }
 ],
 "metadata": {
  "kernelspec": {
   "display_name": "Python 3 (ipykernel)",
   "language": "python",
   "name": "python3"
  },
  "language_info": {
   "codemirror_mode": {
    "name": "ipython",
    "version": 3
   },
   "file_extension": ".py",
   "mimetype": "text/x-python",
   "name": "python",
   "nbconvert_exporter": "python",
   "pygments_lexer": "ipython3",
   "version": "3.9.13"
  }
 },
 "nbformat": 4,
 "nbformat_minor": 4
}
