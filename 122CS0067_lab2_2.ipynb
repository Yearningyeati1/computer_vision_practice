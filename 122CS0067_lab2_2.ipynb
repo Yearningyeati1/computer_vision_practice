{
 "cells": [
  {
   "cell_type": "markdown",
   "metadata": {},
   "source": [
    "<table>\n",
    "<tr>\n",
    "<td width=15%><img src=\"https://www.nitrkl.ac.in/assets/images/logo.png\"></img></td>\n",
    "<td><center><h1>National Institute of Technology\n",
    "Rourkela, Odisha, India, 769008</h1><h2>Department of Computer Science Engineering</h2></center></td>\n",
    "</tr>\n",
    "<tr><td colspan=2><center><h3>Lab-2: Computer Vision Lab</h3></center></br>\n",
    "<center><h3>Amiya Chowdhury Roll: 122CS0067</h3></center>\n",
    "            <center><b>(Assignment-5)</b></center></td></tr>\n",
    "</table>"
   ]
  },
  {
   "cell_type": "markdown",
   "metadata": {},
   "source": [
    "______\n",
    "**1. Write a program to initialize a dictionary (of your choice) and create a pandas DataFrame from it. Print the dataframe?**"
   ]
  },
  {
   "cell_type": "code",
   "execution_count": 1,
   "metadata": {},
   "outputs": [
    {
     "data": {
      "text/html": [
       "<div>\n",
       "<style scoped>\n",
       "    .dataframe tbody tr th:only-of-type {\n",
       "        vertical-align: middle;\n",
       "    }\n",
       "\n",
       "    .dataframe tbody tr th {\n",
       "        vertical-align: top;\n",
       "    }\n",
       "\n",
       "    .dataframe thead th {\n",
       "        text-align: right;\n",
       "    }\n",
       "</style>\n",
       "<table border=\"1\" class=\"dataframe\">\n",
       "  <thead>\n",
       "    <tr style=\"text-align: right;\">\n",
       "      <th></th>\n",
       "      <th>Movies</th>\n",
       "      <th>Director</th>\n",
       "    </tr>\n",
       "  </thead>\n",
       "  <tbody>\n",
       "    <tr>\n",
       "      <th>0</th>\n",
       "      <td>Interstellar</td>\n",
       "      <td>Nolan</td>\n",
       "    </tr>\n",
       "    <tr>\n",
       "      <th>1</th>\n",
       "      <td>Pulp Fiction</td>\n",
       "      <td>Tarantino</td>\n",
       "    </tr>\n",
       "    <tr>\n",
       "      <th>2</th>\n",
       "      <td>Pather Panchali</td>\n",
       "      <td>Satyajit</td>\n",
       "    </tr>\n",
       "  </tbody>\n",
       "</table>\n",
       "</div>"
      ],
      "text/plain": [
       "            Movies   Director\n",
       "0     Interstellar      Nolan\n",
       "1     Pulp Fiction  Tarantino\n",
       "2  Pather Panchali   Satyajit"
      ]
     },
     "execution_count": 1,
     "metadata": {},
     "output_type": "execute_result"
    }
   ],
   "source": [
    "#Code here\n",
    "import pandas as pd\n",
    "dict1={'Movies':[\"Interstellar\",\"Pulp Fiction\",\"Pather Panchali\"],\"Director\":['Nolan','Tarantino','Satyajit']}\n",
    "\n",
    "df=pd.DataFrame(dict1)\n",
    "\n",
    "df"
   ]
  },
  {
   "cell_type": "markdown",
   "metadata": {},
   "source": [
    "___\n",
    "**2. Write a program to read the CSV file \"summer.csv\" into a pandas DataFrame \"df\", display the first 5 rows, and print the DataFrame's shape**"
   ]
  },
  {
   "cell_type": "code",
   "execution_count": 2,
   "metadata": {},
   "outputs": [
    {
     "name": "stdout",
     "output_type": "stream",
     "text": [
      "   Year    City     Sport Discipline             Athlete Country Gender  \\\n",
      "0  1896  Athens  Aquatics   Swimming       HAJOS, Alfred     HUN    Men   \n",
      "1  1896  Athens  Aquatics   Swimming    HERSCHMANN, Otto     AUT    Men   \n",
      "2  1896  Athens  Aquatics   Swimming   DRIVAS, Dimitrios     GRE    Men   \n",
      "3  1896  Athens  Aquatics   Swimming  MALOKINIS, Ioannis     GRE    Men   \n",
      "4  1896  Athens  Aquatics   Swimming  CHASAPIS, Spiridon     GRE    Men   \n",
      "\n",
      "                        Event   Medal  \n",
      "0              100M Freestyle    Gold  \n",
      "1              100M Freestyle  Silver  \n",
      "2  100M Freestyle For Sailors  Bronze  \n",
      "3  100M Freestyle For Sailors    Gold  \n",
      "4  100M Freestyle For Sailors  Silver  \n",
      "(31165, 9)\n"
     ]
    }
   ],
   "source": [
    "#Code here\n",
    "fr=pd.read_csv(\"summer.csv\")\n",
    "print(fr.head(5))\n",
    "print(fr.shape)"
   ]
  },
  {
   "cell_type": "markdown",
   "metadata": {},
   "source": [
    "___\n",
    "**3. Write a program to display the last 10 rows of the DataFrame?**"
   ]
  },
  {
   "cell_type": "code",
   "execution_count": 3,
   "metadata": {},
   "outputs": [
    {
     "name": "stdout",
     "output_type": "stream",
     "text": [
      "       Year    City      Sport           Discipline  \\\n",
      "31155  2012  London  Wrestling  Wrestling Freestyle   \n",
      "31156  2012  London  Wrestling  Wrestling Freestyle   \n",
      "31157  2012  London  Wrestling  Wrestling Freestyle   \n",
      "31158  2012  London  Wrestling  Wrestling Freestyle   \n",
      "31159  2012  London  Wrestling  Wrestling Freestyle   \n",
      "31160  2012  London  Wrestling  Wrestling Freestyle   \n",
      "31161  2012  London  Wrestling  Wrestling Freestyle   \n",
      "31162  2012  London  Wrestling  Wrestling Freestyle   \n",
      "31163  2012  London  Wrestling  Wrestling Freestyle   \n",
      "31164  2012  London  Wrestling  Wrestling Freestyle   \n",
      "\n",
      "                            Athlete Country Gender     Event   Medal  \n",
      "31155                 AHMADOV, Emin     AZE    Men  Wg 74 KG  Bronze  \n",
      "31156          KAZAKEVIC, Aleksandr     LTU    Men  Wg 74 KG  Bronze  \n",
      "31157                 KHUGAEV, Alan     RUS    Men  Wg 84 KG    Gold  \n",
      "31158  EBRAHIM, Karam Mohamed Gaber     EGY    Men  Wg 84 KG  Silver  \n",
      "31159               GAJIYEV, Danyal     KAZ    Men  Wg 84 KG  Bronze  \n",
      "31160            JANIKOWSKI, Damian     POL    Men  Wg 84 KG  Bronze  \n",
      "31161     REZAEI, Ghasem Gholamreza     IRI    Men  Wg 96 KG    Gold  \n",
      "31162                TOTROV, Rustam     RUS    Men  Wg 96 KG  Silver  \n",
      "31163             ALEKSANYAN, Artur     ARM    Men  Wg 96 KG  Bronze  \n",
      "31164                LIDBERG, Jimmy     SWE    Men  Wg 96 KG  Bronze  \n"
     ]
    }
   ],
   "source": [
    "#Code here\n",
    "print(fr.tail(10))"
   ]
  },
  {
   "cell_type": "markdown",
   "metadata": {},
   "source": [
    "___\n",
    "**4. Write a program to get a summary of the DataFrame (such as the mean, count, etc.) and print the data types of all columns?**"
   ]
  },
  {
   "cell_type": "code",
   "execution_count": 5,
   "metadata": {},
   "outputs": [
    {
     "name": "stdout",
     "output_type": "stream",
     "text": [
      "               Year\n",
      "count  31165.000000\n",
      "mean    1970.482785\n",
      "std       33.158416\n",
      "min     1896.000000\n",
      "25%     1948.000000\n",
      "50%     1980.000000\n",
      "75%     2000.000000\n",
      "max     2012.000000\n",
      "Year           int64\n",
      "City          object\n",
      "Sport         object\n",
      "Discipline    object\n",
      "Athlete       object\n",
      "Country       object\n",
      "Gender        object\n",
      "Event         object\n",
      "Medal         object\n",
      "dtype: object\n"
     ]
    }
   ],
   "source": [
    "#Code here\n",
    "print(fr.describe())\n",
    "print(fr.dtypes)"
   ]
  },
  {
   "cell_type": "markdown",
   "metadata": {},
   "source": [
    "___\n",
    "**5. Write a program to select a single column \"Gender\" from the DataFrame?**"
   ]
  },
  {
   "cell_type": "code",
   "execution_count": 6,
   "metadata": {},
   "outputs": [
    {
     "data": {
      "text/plain": [
       "0        Men\n",
       "1        Men\n",
       "2        Men\n",
       "3        Men\n",
       "4        Men\n",
       "        ... \n",
       "31160    Men\n",
       "31161    Men\n",
       "31162    Men\n",
       "31163    Men\n",
       "31164    Men\n",
       "Name: Gender, Length: 31165, dtype: object"
      ]
     },
     "execution_count": 6,
     "metadata": {},
     "output_type": "execute_result"
    }
   ],
   "source": [
    "#Code here\n",
    "fr.Gender"
   ]
  },
  {
   "cell_type": "markdown",
   "metadata": {},
   "source": [
    "___\n",
    "**6. Write a program to select multiple columns \"Year\" and \"City\" from the DataFrame?**"
   ]
  },
  {
   "cell_type": "code",
   "execution_count": 7,
   "metadata": {},
   "outputs": [
    {
     "data": {
      "text/html": [
       "<div>\n",
       "<style scoped>\n",
       "    .dataframe tbody tr th:only-of-type {\n",
       "        vertical-align: middle;\n",
       "    }\n",
       "\n",
       "    .dataframe tbody tr th {\n",
       "        vertical-align: top;\n",
       "    }\n",
       "\n",
       "    .dataframe thead th {\n",
       "        text-align: right;\n",
       "    }\n",
       "</style>\n",
       "<table border=\"1\" class=\"dataframe\">\n",
       "  <thead>\n",
       "    <tr style=\"text-align: right;\">\n",
       "      <th></th>\n",
       "      <th>Year</th>\n",
       "      <th>City</th>\n",
       "    </tr>\n",
       "  </thead>\n",
       "  <tbody>\n",
       "    <tr>\n",
       "      <th>0</th>\n",
       "      <td>1896</td>\n",
       "      <td>Athens</td>\n",
       "    </tr>\n",
       "    <tr>\n",
       "      <th>1</th>\n",
       "      <td>1896</td>\n",
       "      <td>Athens</td>\n",
       "    </tr>\n",
       "    <tr>\n",
       "      <th>2</th>\n",
       "      <td>1896</td>\n",
       "      <td>Athens</td>\n",
       "    </tr>\n",
       "    <tr>\n",
       "      <th>3</th>\n",
       "      <td>1896</td>\n",
       "      <td>Athens</td>\n",
       "    </tr>\n",
       "    <tr>\n",
       "      <th>4</th>\n",
       "      <td>1896</td>\n",
       "      <td>Athens</td>\n",
       "    </tr>\n",
       "    <tr>\n",
       "      <th>...</th>\n",
       "      <td>...</td>\n",
       "      <td>...</td>\n",
       "    </tr>\n",
       "    <tr>\n",
       "      <th>31160</th>\n",
       "      <td>2012</td>\n",
       "      <td>London</td>\n",
       "    </tr>\n",
       "    <tr>\n",
       "      <th>31161</th>\n",
       "      <td>2012</td>\n",
       "      <td>London</td>\n",
       "    </tr>\n",
       "    <tr>\n",
       "      <th>31162</th>\n",
       "      <td>2012</td>\n",
       "      <td>London</td>\n",
       "    </tr>\n",
       "    <tr>\n",
       "      <th>31163</th>\n",
       "      <td>2012</td>\n",
       "      <td>London</td>\n",
       "    </tr>\n",
       "    <tr>\n",
       "      <th>31164</th>\n",
       "      <td>2012</td>\n",
       "      <td>London</td>\n",
       "    </tr>\n",
       "  </tbody>\n",
       "</table>\n",
       "<p>31165 rows × 2 columns</p>\n",
       "</div>"
      ],
      "text/plain": [
       "       Year    City\n",
       "0      1896  Athens\n",
       "1      1896  Athens\n",
       "2      1896  Athens\n",
       "3      1896  Athens\n",
       "4      1896  Athens\n",
       "...     ...     ...\n",
       "31160  2012  London\n",
       "31161  2012  London\n",
       "31162  2012  London\n",
       "31163  2012  London\n",
       "31164  2012  London\n",
       "\n",
       "[31165 rows x 2 columns]"
      ]
     },
     "execution_count": 7,
     "metadata": {},
     "output_type": "execute_result"
    }
   ],
   "source": [
    "#Code here\n",
    "fr[['Year','City']]"
   ]
  },
  {
   "cell_type": "markdown",
   "metadata": {},
   "source": [
    "___\n",
    "**7. Write a program to  filter rows in a DataFrame based on the condition that Gender = Men ?**"
   ]
  },
  {
   "cell_type": "code",
   "execution_count": 11,
   "metadata": {},
   "outputs": [
    {
     "name": "stdout",
     "output_type": "stream",
     "text": [
      "       Year    City      Sport           Discipline  \\\n",
      "0      1896  Athens   Aquatics             Swimming   \n",
      "1      1896  Athens   Aquatics             Swimming   \n",
      "2      1896  Athens   Aquatics             Swimming   \n",
      "3      1896  Athens   Aquatics             Swimming   \n",
      "4      1896  Athens   Aquatics             Swimming   \n",
      "...     ...     ...        ...                  ...   \n",
      "31160  2012  London  Wrestling  Wrestling Freestyle   \n",
      "31161  2012  London  Wrestling  Wrestling Freestyle   \n",
      "31162  2012  London  Wrestling  Wrestling Freestyle   \n",
      "31163  2012  London  Wrestling  Wrestling Freestyle   \n",
      "31164  2012  London  Wrestling  Wrestling Freestyle   \n",
      "\n",
      "                         Athlete Country Gender                       Event  \\\n",
      "0                  HAJOS, Alfred     HUN    Men              100M Freestyle   \n",
      "1               HERSCHMANN, Otto     AUT    Men              100M Freestyle   \n",
      "2              DRIVAS, Dimitrios     GRE    Men  100M Freestyle For Sailors   \n",
      "3             MALOKINIS, Ioannis     GRE    Men  100M Freestyle For Sailors   \n",
      "4             CHASAPIS, Spiridon     GRE    Men  100M Freestyle For Sailors   \n",
      "...                          ...     ...    ...                         ...   \n",
      "31160         JANIKOWSKI, Damian     POL    Men                    Wg 84 KG   \n",
      "31161  REZAEI, Ghasem Gholamreza     IRI    Men                    Wg 96 KG   \n",
      "31162             TOTROV, Rustam     RUS    Men                    Wg 96 KG   \n",
      "31163          ALEKSANYAN, Artur     ARM    Men                    Wg 96 KG   \n",
      "31164             LIDBERG, Jimmy     SWE    Men                    Wg 96 KG   \n",
      "\n",
      "        Medal  \n",
      "0        Gold  \n",
      "1      Silver  \n",
      "2      Bronze  \n",
      "3        Gold  \n",
      "4      Silver  \n",
      "...       ...  \n",
      "31160  Bronze  \n",
      "31161    Gold  \n",
      "31162  Silver  \n",
      "31163  Bronze  \n",
      "31164  Bronze  \n",
      "\n",
      "[22746 rows x 9 columns]\n"
     ]
    }
   ],
   "source": [
    "#Code here\n",
    "mask=fr.Gender==\"Men\"\n",
    "print(fr[fr.Gender==\"Men\"])"
   ]
  },
  {
   "cell_type": "markdown",
   "metadata": {},
   "source": [
    "___\n",
    "**8. Write a program to select and print the first 5 rows and columns 2 to 6 (inclusive) of the DataFrame. Also, print the type of the resulting object?**"
   ]
  },
  {
   "cell_type": "code",
   "execution_count": 18,
   "metadata": {},
   "outputs": [
    {
     "name": "stdout",
     "output_type": "stream",
     "text": [
      "      Sport Discipline             Athlete Country Gender\n",
      "0  Aquatics   Swimming       HAJOS, Alfred     HUN    Men\n",
      "1  Aquatics   Swimming    HERSCHMANN, Otto     AUT    Men\n",
      "2  Aquatics   Swimming   DRIVAS, Dimitrios     GRE    Men\n",
      "3  Aquatics   Swimming  MALOKINIS, Ioannis     GRE    Men\n",
      "4  Aquatics   Swimming  CHASAPIS, Spiridon     GRE    Men\n",
      "Type of Object= <class 'pandas.core.frame.DataFrame'>\n"
     ]
    }
   ],
   "source": [
    "#Code here\n",
    "\n",
    "fr1=fr.iloc[:5,2:7]\n",
    "print(fr1)\n",
    "print('Type of Object=',type(fr1))"
   ]
  },
  {
   "cell_type": "markdown",
   "metadata": {},
   "source": [
    "___\n",
    "**9. Write a program to  delete a column \"City\" from the DataFrame and print the new dataframe??**"
   ]
  },
  {
   "cell_type": "code",
   "execution_count": 19,
   "metadata": {},
   "outputs": [
    {
     "name": "stdout",
     "output_type": "stream",
     "text": [
      "       Year      Sport           Discipline                    Athlete  \\\n",
      "0      1896   Aquatics             Swimming              HAJOS, Alfred   \n",
      "1      1896   Aquatics             Swimming           HERSCHMANN, Otto   \n",
      "2      1896   Aquatics             Swimming          DRIVAS, Dimitrios   \n",
      "3      1896   Aquatics             Swimming         MALOKINIS, Ioannis   \n",
      "4      1896   Aquatics             Swimming         CHASAPIS, Spiridon   \n",
      "...     ...        ...                  ...                        ...   \n",
      "31160  2012  Wrestling  Wrestling Freestyle         JANIKOWSKI, Damian   \n",
      "31161  2012  Wrestling  Wrestling Freestyle  REZAEI, Ghasem Gholamreza   \n",
      "31162  2012  Wrestling  Wrestling Freestyle             TOTROV, Rustam   \n",
      "31163  2012  Wrestling  Wrestling Freestyle          ALEKSANYAN, Artur   \n",
      "31164  2012  Wrestling  Wrestling Freestyle             LIDBERG, Jimmy   \n",
      "\n",
      "      Country Gender                       Event   Medal  \n",
      "0         HUN    Men              100M Freestyle    Gold  \n",
      "1         AUT    Men              100M Freestyle  Silver  \n",
      "2         GRE    Men  100M Freestyle For Sailors  Bronze  \n",
      "3         GRE    Men  100M Freestyle For Sailors    Gold  \n",
      "4         GRE    Men  100M Freestyle For Sailors  Silver  \n",
      "...       ...    ...                         ...     ...  \n",
      "31160     POL    Men                    Wg 84 KG  Bronze  \n",
      "31161     IRI    Men                    Wg 96 KG    Gold  \n",
      "31162     RUS    Men                    Wg 96 KG  Silver  \n",
      "31163     ARM    Men                    Wg 96 KG  Bronze  \n",
      "31164     SWE    Men                    Wg 96 KG  Bronze  \n",
      "\n",
      "[31165 rows x 8 columns]\n"
     ]
    }
   ],
   "source": [
    "#Code here\n",
    "fr2=fr.drop(columns='City')\n",
    "print(fr2)"
   ]
  },
  {
   "cell_type": "markdown",
   "metadata": {},
   "source": [
    "___\n",
    "**10. Write a program to  rename a column \"Athlete\" to \"Participants\" in the DataFrame?**"
   ]
  },
  {
   "cell_type": "code",
   "execution_count": 21,
   "metadata": {},
   "outputs": [
    {
     "name": "stdout",
     "output_type": "stream",
     "text": [
      "       Year    City      Sport           Discipline  \\\n",
      "0      1896  Athens   Aquatics             Swimming   \n",
      "1      1896  Athens   Aquatics             Swimming   \n",
      "2      1896  Athens   Aquatics             Swimming   \n",
      "3      1896  Athens   Aquatics             Swimming   \n",
      "4      1896  Athens   Aquatics             Swimming   \n",
      "...     ...     ...        ...                  ...   \n",
      "31160  2012  London  Wrestling  Wrestling Freestyle   \n",
      "31161  2012  London  Wrestling  Wrestling Freestyle   \n",
      "31162  2012  London  Wrestling  Wrestling Freestyle   \n",
      "31163  2012  London  Wrestling  Wrestling Freestyle   \n",
      "31164  2012  London  Wrestling  Wrestling Freestyle   \n",
      "\n",
      "                    Participants Country Gender                       Event  \\\n",
      "0                  HAJOS, Alfred     HUN    Men              100M Freestyle   \n",
      "1               HERSCHMANN, Otto     AUT    Men              100M Freestyle   \n",
      "2              DRIVAS, Dimitrios     GRE    Men  100M Freestyle For Sailors   \n",
      "3             MALOKINIS, Ioannis     GRE    Men  100M Freestyle For Sailors   \n",
      "4             CHASAPIS, Spiridon     GRE    Men  100M Freestyle For Sailors   \n",
      "...                          ...     ...    ...                         ...   \n",
      "31160         JANIKOWSKI, Damian     POL    Men                    Wg 84 KG   \n",
      "31161  REZAEI, Ghasem Gholamreza     IRI    Men                    Wg 96 KG   \n",
      "31162             TOTROV, Rustam     RUS    Men                    Wg 96 KG   \n",
      "31163          ALEKSANYAN, Artur     ARM    Men                    Wg 96 KG   \n",
      "31164             LIDBERG, Jimmy     SWE    Men                    Wg 96 KG   \n",
      "\n",
      "        Medal  \n",
      "0        Gold  \n",
      "1      Silver  \n",
      "2      Bronze  \n",
      "3        Gold  \n",
      "4      Silver  \n",
      "...       ...  \n",
      "31160  Bronze  \n",
      "31161    Gold  \n",
      "31162  Silver  \n",
      "31163  Bronze  \n",
      "31164  Bronze  \n",
      "\n",
      "[31165 rows x 9 columns]\n"
     ]
    }
   ],
   "source": [
    "#Code here\n",
    "fr2=fr.rename(columns={'Athlete':'Participants'})\n",
    "print(fr2)"
   ]
  },
  {
   "cell_type": "markdown",
   "metadata": {},
   "source": [
    "___\n",
    "**11. Write a program to select and print the \"Participants\", \"Medal\" and \"Event\" columns for index 10 and 201 from the DataFrame.?**"
   ]
  },
  {
   "cell_type": "code",
   "execution_count": 22,
   "metadata": {},
   "outputs": [
    {
     "name": "stdout",
     "output_type": "stream",
     "text": [
      "          Participants   Medal           Event\n",
      "10   PEPANOS, Antonios  Silver  400M Freestyle\n",
      "201    LISTER, William    Gold      Water Polo\n"
     ]
    }
   ],
   "source": [
    "#Code here\n",
    "print(fr2.loc[[10,201],['Participants','Medal','Event']])"
   ]
  },
  {
   "cell_type": "markdown",
   "metadata": {},
   "source": [
    "___\n",
    "**12. Write a program to display the first 10 rows of the df DataFrame and check for any missing values in each column.?**"
   ]
  },
  {
   "cell_type": "code",
   "execution_count": 23,
   "metadata": {},
   "outputs": [
    {
     "name": "stdout",
     "output_type": "stream",
     "text": [
      "   Year    City     Sport Discipline           Participants Country Gender  \\\n",
      "0  1896  Athens  Aquatics   Swimming          HAJOS, Alfred     HUN    Men   \n",
      "1  1896  Athens  Aquatics   Swimming       HERSCHMANN, Otto     AUT    Men   \n",
      "2  1896  Athens  Aquatics   Swimming      DRIVAS, Dimitrios     GRE    Men   \n",
      "3  1896  Athens  Aquatics   Swimming     MALOKINIS, Ioannis     GRE    Men   \n",
      "4  1896  Athens  Aquatics   Swimming     CHASAPIS, Spiridon     GRE    Men   \n",
      "5  1896  Athens  Aquatics   Swimming  CHOROPHAS, Efstathios     GRE    Men   \n",
      "6  1896  Athens  Aquatics   Swimming          HAJOS, Alfred     HUN    Men   \n",
      "7  1896  Athens  Aquatics   Swimming       ANDREOU, Joannis     GRE    Men   \n",
      "8  1896  Athens  Aquatics   Swimming  CHOROPHAS, Efstathios     GRE    Men   \n",
      "9  1896  Athens  Aquatics   Swimming          NEUMANN, Paul     AUT    Men   \n",
      "\n",
      "                        Event   Medal  \n",
      "0              100M Freestyle    Gold  \n",
      "1              100M Freestyle  Silver  \n",
      "2  100M Freestyle For Sailors  Bronze  \n",
      "3  100M Freestyle For Sailors    Gold  \n",
      "4  100M Freestyle For Sailors  Silver  \n",
      "5             1200M Freestyle  Bronze  \n",
      "6             1200M Freestyle    Gold  \n",
      "7             1200M Freestyle  Silver  \n",
      "8              400M Freestyle  Bronze  \n",
      "9              400M Freestyle    Gold  \n",
      "Year            0\n",
      "City            0\n",
      "Sport           0\n",
      "Discipline      0\n",
      "Participants    0\n",
      "Country         4\n",
      "Gender          0\n",
      "Event           0\n",
      "Medal           0\n",
      "dtype: int64\n"
     ]
    }
   ],
   "source": [
    "#Code here\n",
    "print(fr2.head(10))\n",
    "print(fr2.isna().sum())"
   ]
  },
  {
   "cell_type": "markdown",
   "metadata": {},
   "source": [
    "___\n",
    "**13. Write a program to select and print the \"Country\" and \"Medal\" columns from the df DataFrame, and then print the number of unique values in each of these columns.?**"
   ]
  },
  {
   "cell_type": "code",
   "execution_count": 24,
   "metadata": {},
   "outputs": [
    {
     "name": "stdout",
     "output_type": "stream",
     "text": [
      "      Country   Medal\n",
      "0         HUN    Gold\n",
      "1         AUT  Silver\n",
      "2         GRE  Bronze\n",
      "3         GRE    Gold\n",
      "4         GRE  Silver\n",
      "...       ...     ...\n",
      "31160     POL  Bronze\n",
      "31161     IRI    Gold\n",
      "31162     RUS  Silver\n",
      "31163     ARM  Bronze\n",
      "31164     SWE  Bronze\n",
      "\n",
      "[31165 rows x 2 columns]\n",
      "147\n",
      "3\n"
     ]
    }
   ],
   "source": [
    "#Code here\n",
    "print(fr2[['Country','Medal']])\n",
    "print(fr2.Country.nunique())\n",
    "print(fr2.Medal.nunique())"
   ]
  },
  {
   "cell_type": "markdown",
   "metadata": {},
   "source": [
    "___\n",
    "**14. Write a program to group the df DataFrame by the \"Country\" column and calculate the total number of medals for each country. Print the result.?**"
   ]
  },
  {
   "cell_type": "code",
   "execution_count": 29,
   "metadata": {},
   "outputs": [
    {
     "name": "stdout",
     "output_type": "stream",
     "text": [
      "Country\n",
      "AFG      2\n",
      "AHO      1\n",
      "ALG     15\n",
      "ANZ     29\n",
      "ARG    259\n",
      "      ... \n",
      "VIE      2\n",
      "YUG    435\n",
      "ZAM      2\n",
      "ZIM     23\n",
      "ZZX     48\n",
      "Name: Medal, Length: 147, dtype: int64\n"
     ]
    }
   ],
   "source": [
    "#Code here\n",
    "medals=fr2.groupby(\"Country\")['Medal'].count()\n",
    "print(medals)"
   ]
  },
  {
   "cell_type": "markdown",
   "metadata": {},
   "source": [
    "___\n",
    "**15. Write a program to sort the df DataFrame by the \"Year\" column in descending order and print the first 5 rows of the sorted DataFrame.?**"
   ]
  },
  {
   "cell_type": "code",
   "execution_count": 31,
   "metadata": {},
   "outputs": [
    {
     "name": "stdout",
     "output_type": "stream",
     "text": [
      "       Year    City       Sport           Discipline        Participants  \\\n",
      "31164  2012  London   Wrestling  Wrestling Freestyle      LIDBERG, Jimmy   \n",
      "29885  2012  London      Boxing               Boxing     NEVIN, John Joe   \n",
      "29857  2012  London  Basketball           Basketball        BISHOP, Abby   \n",
      "29858  2012  London  Basketball           Basketball  CAMBAGE, Elizabeth   \n",
      "29859  2012  London  Basketball           Basketball    HARROWER, Kristi   \n",
      "\n",
      "      Country Gender       Event   Medal  \n",
      "31164     SWE    Men    Wg 96 KG  Bronze  \n",
      "29885     IRL    Men        56KG  Silver  \n",
      "29857     AUS  Women  Basketball  Bronze  \n",
      "29858     AUS  Women  Basketball  Bronze  \n",
      "29859     AUS  Women  Basketball  Bronze  \n"
     ]
    }
   ],
   "source": [
    "#Code here\n",
    "fr3=fr2.sort_values(by=\"Year\",ascending=False)\n",
    "print(fr3.head(5))"
   ]
  },
  {
   "cell_type": "markdown",
   "metadata": {},
   "source": [
    "___\n",
    "**16. Write a program to add a new column \"Century\" to the df DataFrame. Classify each event as occurring in the \"20th Century\" if the \"Year\" is less than 2000, or the \"21st Century\" if the \"Year\" is 2000 or later. Print the first 5 rows to verify the change.**"
   ]
  },
  {
   "cell_type": "code",
   "execution_count": 37,
   "metadata": {},
   "outputs": [
    {
     "name": "stdout",
     "output_type": "stream",
     "text": [
      "   Year    City     Sport Discipline        Participants Country Gender  \\\n",
      "0  1896  Athens  Aquatics   Swimming       HAJOS, Alfred     HUN    Men   \n",
      "1  1896  Athens  Aquatics   Swimming    HERSCHMANN, Otto     AUT    Men   \n",
      "2  1896  Athens  Aquatics   Swimming   DRIVAS, Dimitrios     GRE    Men   \n",
      "3  1896  Athens  Aquatics   Swimming  MALOKINIS, Ioannis     GRE    Men   \n",
      "4  1896  Athens  Aquatics   Swimming  CHASAPIS, Spiridon     GRE    Men   \n",
      "\n",
      "                        Event   Medal       Century  \n",
      "0              100M Freestyle    Gold  20th Century  \n",
      "1              100M Freestyle  Silver  20th Century  \n",
      "2  100M Freestyle For Sailors  Bronze  20th Century  \n",
      "3  100M Freestyle For Sailors    Gold  20th Century  \n",
      "4  100M Freestyle For Sailors  Silver  20th Century  \n"
     ]
    }
   ],
   "source": [
    "#Code here\n",
    "def century_check(dat):\n",
    "    if(dat>=2000):\n",
    "        return '21st Century'\n",
    "    else:\n",
    "        return '20th Century'\n",
    "    \n",
    "fr2['Century']=fr.Year.apply(century_check)\n",
    "\n",
    "print(fr2.head(5))"
   ]
  },
  {
   "cell_type": "markdown",
   "metadata": {},
   "source": [
    "___\n",
    "**17. Write a program to filter and print rows from the df DataFrame where the \"Country\" is \"USA\" and the \"Medal\" is \"Gold\". Also, count the number of rows that meet this condition.**"
   ]
  },
  {
   "cell_type": "code",
   "execution_count": 38,
   "metadata": {},
   "outputs": [
    {
     "name": "stdout",
     "output_type": "stream",
     "text": [
      "       Year    City       Sport           Discipline  \\\n",
      "13     1896  Athens   Athletics            Athletics   \n",
      "15     1896  Athens   Athletics            Athletics   \n",
      "21     1896  Athens   Athletics            Athletics   \n",
      "27     1896  Athens   Athletics            Athletics   \n",
      "29     1896  Athens   Athletics            Athletics   \n",
      "...     ...     ...         ...                  ...   \n",
      "30955  2012  London      Tennis               Tennis   \n",
      "30970  2012  London  Volleyball     Beach Volleyball   \n",
      "30971  2012  London  Volleyball     Beach Volleyball   \n",
      "31125  2012  London   Wrestling  Wrestling Freestyle   \n",
      "31133  2012  London   Wrestling  Wrestling Freestyle   \n",
      "\n",
      "                   Participants Country Gender             Event Medal  \\\n",
      "13                BURKE, Thomas     USA    Men              100M  Gold   \n",
      "15               CURTIS, Thomas     USA    Men      110M Hurdles  Gold   \n",
      "21                BURKE, Thomas     USA    Men              400M  Gold   \n",
      "27              GARRETT, Robert     USA    Men      Discus Throw  Gold   \n",
      "29                CLARK, Ellery     USA    Men         High Jump  Gold   \n",
      "...                         ...     ...    ...               ...   ...   \n",
      "30955          WILLIAMS, Serena     USA  Women           Singles  Gold   \n",
      "30970                MAY, Misty     USA  Women  Beach Volleyball  Gold   \n",
      "30971     WALSH JENNINGS, Kerri     USA  Women  Beach Volleyball  Gold   \n",
      "31125  BURROUGHS, Jordan Ernest     USA    Men          Wf 74 KG  Gold   \n",
      "31133     VARNER, Jacob Stephen     USA    Men          Wf 96 KG  Gold   \n",
      "\n",
      "            Century  \n",
      "13     20th Century  \n",
      "15     20th Century  \n",
      "21     20th Century  \n",
      "27     20th Century  \n",
      "29     20th Century  \n",
      "...             ...  \n",
      "30955  21st Century  \n",
      "30970  21st Century  \n",
      "30971  21st Century  \n",
      "31125  21st Century  \n",
      "31133  21st Century  \n",
      "\n",
      "[2235 rows x 10 columns]\n",
      "Year            2235\n",
      "City            2235\n",
      "Sport           2235\n",
      "Discipline      2235\n",
      "Participants    2235\n",
      "Country         2235\n",
      "Gender          2235\n",
      "Event           2235\n",
      "Medal           2235\n",
      "Century         2235\n",
      "dtype: int64\n"
     ]
    }
   ],
   "source": [
    "#Code here\n",
    "mask1=fr2.Country=='USA'\n",
    "mask2=fr2.Medal=='Gold'\n",
    "\n",
    "mask3= mask1 & mask2\n",
    "\n",
    "print(fr2.loc[mask3])\n",
    "\n",
    "print(fr2.loc[mask3].count())"
   ]
  },
  {
   "cell_type": "markdown",
   "metadata": {},
   "source": [
    "___\n",
    "**18. Write a program to create a new column \"Medal Points\" in the df DataFrame. Assign 3 points for \"Gold\", 2 points for \"Silver\", and 1 point for \"Bronze\". Print the first 5 rows to verify the changes.**"
   ]
  },
  {
   "cell_type": "code",
   "execution_count": 39,
   "metadata": {},
   "outputs": [
    {
     "name": "stdout",
     "output_type": "stream",
     "text": [
      "   Year    City     Sport Discipline        Participants Country Gender  \\\n",
      "0  1896  Athens  Aquatics   Swimming       HAJOS, Alfred     HUN    Men   \n",
      "1  1896  Athens  Aquatics   Swimming    HERSCHMANN, Otto     AUT    Men   \n",
      "2  1896  Athens  Aquatics   Swimming   DRIVAS, Dimitrios     GRE    Men   \n",
      "3  1896  Athens  Aquatics   Swimming  MALOKINIS, Ioannis     GRE    Men   \n",
      "4  1896  Athens  Aquatics   Swimming  CHASAPIS, Spiridon     GRE    Men   \n",
      "\n",
      "                        Event   Medal       Century  Medal Points  \n",
      "0              100M Freestyle    Gold  20th Century             3  \n",
      "1              100M Freestyle  Silver  20th Century             2  \n",
      "2  100M Freestyle For Sailors  Bronze  20th Century             1  \n",
      "3  100M Freestyle For Sailors    Gold  20th Century             3  \n",
      "4  100M Freestyle For Sailors  Silver  20th Century             2  \n"
     ]
    }
   ],
   "source": [
    "#Code here\n",
    "\n",
    "def medl_pt(Medal):\n",
    "    if (Medal=='Gold'):\n",
    "        return 3\n",
    "    elif (Medal=='Silver'):\n",
    "        return 2\n",
    "    else:\n",
    "        return 1\n",
    "    \n",
    "fr2[\"Medal Points\"]=fr2.Medal.apply(medl_pt)\n",
    "\n",
    "print(fr2.head(5))"
   ]
  },
  {
   "cell_type": "markdown",
   "metadata": {},
   "source": [
    "___\n",
    "**19. Write a program to filter the df DataFrame to include only rows where the \"Country\" is \"USA\". Then, group the filtered DataFrame by \"Year\" and calculate the total number of medals won by the USA each year. Print the results.**"
   ]
  },
  {
   "cell_type": "code",
   "execution_count": 46,
   "metadata": {},
   "outputs": [
    {
     "name": "stdout",
     "output_type": "stream",
     "text": [
      "Country\n",
      "AFG      2\n",
      "AHO      1\n",
      "ALG     15\n",
      "ANZ     29\n",
      "ARG    259\n",
      "      ... \n",
      "VIE      2\n",
      "YUG    435\n",
      "ZAM      2\n",
      "ZIM     23\n",
      "ZZX     48\n",
      "Name: Medal, Length: 147, dtype: int64\n"
     ]
    }
   ],
   "source": [
    "#Code here\n",
    "\n",
    "fr5=fr2[fr2['Country']=='USA']\n",
    "fr6=medals=fr2.groupby(\"Country\")['Medal'].count()\n",
    "print(fr6)"
   ]
  },
  {
   "cell_type": "markdown",
   "metadata": {},
   "source": [
    "___\n",
    "**20. Write a program to identify the athlete who has won the most medals. Display the athlete's name and the total number of medals they have won.**"
   ]
  },
  {
   "cell_type": "code",
   "execution_count": 57,
   "metadata": {},
   "outputs": [
    {
     "name": "stdout",
     "output_type": "stream",
     "text": [
      "PHELPS, Michael\n",
      "22\n",
      "Max medals:  22  Athlete: PHELPS, Michael\n"
     ]
    }
   ],
   "source": [
    "#Code here\n",
    "\n",
    "success= fr2.groupby('Participants')['Medal'].count().idxmax()\n",
    "\n",
    "print(success)\n",
    "\n",
    "medals= fr2.groupby('Participants')['Medal'].count().max()\n",
    "\n",
    "print(medals)\n",
    "\n",
    "print(\"Max medals: \", medals, ' Athlete:',success)"
   ]
  },
  {
   "cell_type": "markdown",
   "metadata": {},
   "source": [
    "___\n",
    "**21. Write a program to group the df DataFrame by the \"Sport\" column and calculate the number of each type of medal (Gold, Silver, Bronze) for each sport. Print the results.**"
   ]
  },
  {
   "cell_type": "code",
   "execution_count": 58,
   "metadata": {},
   "outputs": [
    {
     "name": "stdout",
     "output_type": "stream",
     "text": [
      "Sport\n",
      "Aquatics             4170\n",
      "Archery               329\n",
      "Athletics            3638\n",
      "Badminton             144\n",
      "Baseball              335\n",
      "Basketball           1012\n",
      "Basque Pelota           4\n",
      "Boxing                894\n",
      "Canoe                  81\n",
      "Canoe / Kayak        1002\n",
      "Cricket                24\n",
      "Croquet                 8\n",
      "Cycling              1105\n",
      "Equestrian            939\n",
      "Fencing              1613\n",
      "Football             1497\n",
      "Golf                   30\n",
      "Gymnastics           2307\n",
      "Handball              973\n",
      "Hockey               1422\n",
      "Ice Hockey             27\n",
      "Jeu de paume            3\n",
      "Judo                  491\n",
      "Lacrosse               59\n",
      "Modern Pentathlon     180\n",
      "Polo                   66\n",
      "Rackets                10\n",
      "Roque                   3\n",
      "Rowing               2667\n",
      "Rugby                 192\n",
      "Sailing              1109\n",
      "Shooting             1150\n",
      "Skating                27\n",
      "Softball              180\n",
      "Table Tennis          144\n",
      "Taekwondo             112\n",
      "Tennis                296\n",
      "Triathlon              24\n",
      "Tug of War             94\n",
      "Volleyball            994\n",
      "Water Motorsports       5\n",
      "Weightlifting         593\n",
      "Wrestling            1212\n",
      "Name: Medal, dtype: int64\n"
     ]
    }
   ],
   "source": [
    "#Code here\n",
    "fr6=fr2.groupby('Sport')['Medal'].count()\n",
    "print(fr6)"
   ]
  },
  {
   "cell_type": "markdown",
   "metadata": {},
   "source": [
    "### Good Luck!"
   ]
  }
 ],
 "metadata": {
  "kernelspec": {
   "display_name": "Python 3 (ipykernel)",
   "language": "python",
   "name": "python3"
  },
  "language_info": {
   "codemirror_mode": {
    "name": "ipython",
    "version": 3
   },
   "file_extension": ".py",
   "mimetype": "text/x-python",
   "name": "python",
   "nbconvert_exporter": "python",
   "pygments_lexer": "ipython3",
   "version": "3.9.13"
  }
 },
 "nbformat": 4,
 "nbformat_minor": 4
}
