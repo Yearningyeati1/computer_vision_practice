{
 "cells": [
  {
   "cell_type": "markdown",
   "id": "4ac809d2",
   "metadata": {},
   "source": [
    "# Computer Vision Laboratory 5 (06/02/2025)\n",
    "\n",
    "# Amiya Chowdhury Roll: 122CS0067\n"
   ]
  },
  {
   "cell_type": "code",
   "execution_count": 1,
   "id": "a1cc405d",
   "metadata": {},
   "outputs": [
    {
     "name": "stderr",
     "output_type": "stream",
     "text": [
      "C:\\ProgramData\\Anaconda3\\lib\\site-packages\\scipy\\__init__.py:155: UserWarning: A NumPy version >=1.18.5 and <1.25.0 is required for this version of SciPy (detected version 1.26.4\n",
      "  warnings.warn(f\"A NumPy version >={np_minversion} and <{np_maxversion}\"\n"
     ]
    },
    {
     "name": "stdout",
     "output_type": "stream",
     "text": [
      "WARNING:tensorflow:From C:\\Users\\Admin\\AppData\\Roaming\\Python\\Python39\\site-packages\\keras\\src\\losses.py:2976: The name tf.losses.sparse_softmax_cross_entropy is deprecated. Please use tf.compat.v1.losses.sparse_softmax_cross_entropy instead.\n",
      "\n"
     ]
    }
   ],
   "source": [
    "import tensorflow as tf\n",
    "from tensorflow.keras import utils\n",
    "from tensorflow.keras.datasets import mnist \n",
    "import seaborn as sns\n",
    "from tensorflow.keras.initializers import RandomNormal"
   ]
  },
  {
   "cell_type": "code",
   "execution_count": 2,
   "id": "dc522f46",
   "metadata": {},
   "outputs": [],
   "source": [
    "import matplotlib.pyplot as plt\n",
    "import numpy as np\n",
    "import time\n",
    "def plt_dynamic(x, vy, ty, ax, colors=['b']):\n",
    "    ax.plot(x, vy, 'b', label=\"Validation Loss\")\n",
    "    ax.plot(x, ty, 'r', label=\"Train Loss\")\n",
    "    plt.legend()\n",
    "    plt.grid()\n",
    "    fig.canvas.draw()"
   ]
  },
  {
   "cell_type": "code",
   "execution_count": 3,
   "id": "296e6594",
   "metadata": {},
   "outputs": [],
   "source": [
    "# Load the Mnist data, shuffled and split between train and test sets \n",
    "(X_train, y_train), (X_test, y_test) = mnist.load_data()"
   ]
  },
  {
   "cell_type": "code",
   "execution_count": 4,
   "id": "ed811b8f",
   "metadata": {},
   "outputs": [
    {
     "name": "stdout",
     "output_type": "stream",
     "text": [
      "Number of training examples : 60000 and each image is of shape (28, 28)\n",
      "Number of testing examples : 10000 and each image is of shape (28, 28)\n"
     ]
    }
   ],
   "source": [
    "print(\"Number of training examples :\", X_train.shape[0], \"and each image is of shape (%d, %d)\"%(X_train.shape[1], X_train.shape[2]))\n",
    "print(\"Number of testing examples :\", X_test.shape[0], \"and each image is of shape (%d, %d)\"%(X_test.shape[1], X_test.shape[2]))"
   ]
  },
  {
   "cell_type": "code",
   "execution_count": 5,
   "id": "434bc753",
   "metadata": {},
   "outputs": [
    {
     "name": "stdout",
     "output_type": "stream",
     "text": [
      "Number of training examples : 60000 and each image is of shape (784)\n",
      "Number of test examples : 10000 and each image is of shape (784)\n"
     ]
    }
   ],
   "source": [
    "X_train = X_train.reshape(X_train.shape[0], X_train.shape[1]*X_train.shape[2]) \n",
    "X_test = X_test.reshape(X_test.shape[0], X_test.shape[1]*X_test.shape[2])\n",
    "print(\"Number of training examples :\", X_train.shape[0], \"and each image is of shape (%d)\"%(X_train.shape[1]))\n",
    "print(\"Number of test examples :\", X_test.shape[0], \"and each image is of shape (%d)\"%(X_test.shape[1]))"
   ]
  },
  {
   "cell_type": "code",
   "execution_count": 6,
   "id": "0e559363",
   "metadata": {},
   "outputs": [],
   "source": [
    "# if we observe the above matrix each cell is having a value between 0-255\n",
    "# before we move to apply machine learning algorithms lets try to normalize the data\n",
    "# X => (X - Xmin)/(Xmax-Xmin) = X/255\n",
    "\n",
    "X_train = X_train/255\n",
    "X_test = X_test/255"
   ]
  },
  {
   "cell_type": "code",
   "execution_count": 7,
   "id": "8ff53e6f",
   "metadata": {},
   "outputs": [
    {
     "name": "stdout",
     "output_type": "stream",
     "text": [
      "Class label of first image : 5\n",
      "After converting the output into a vector :  [0. 0. 0. 0. 0. 1. 0. 0. 0. 0.]\n"
     ]
    }
   ],
   "source": [
    "print(\"Class label of first image :\", y_train[0])\n",
    "\n",
    "\n",
    "Y_train = utils.to_categorical(y_train, 10) \n",
    "Y_test = utils.to_categorical(y_test, 10)\n",
    "\n",
    "print(\"After converting the output into a vector : \",Y_train[0])"
   ]
  },
  {
   "cell_type": "markdown",
   "id": "88bf527f",
   "metadata": {},
   "source": [
    "<h2>  Softmax classifier  </h2>"
   ]
  },
  {
   "cell_type": "code",
   "execution_count": 8,
   "id": "46b05c6d",
   "metadata": {},
   "outputs": [],
   "source": [
    "import keras\n",
    "from keras import optimizers\n",
    "from tensorflow.keras.models import Sequential \n",
    "from tensorflow.keras.layers import Dense, Activation, Dropout"
   ]
  },
  {
   "cell_type": "code",
   "execution_count": 9,
   "id": "5ea7e351",
   "metadata": {},
   "outputs": [],
   "source": [
    "output_dim = 10\n",
    "input_dim = X_train.shape[1]\n",
    "\n",
    "batch_size = 128 \n",
    "nb_epoch = 10"
   ]
  },
  {
   "cell_type": "code",
   "execution_count": 10,
   "id": "90d010a9",
   "metadata": {},
   "outputs": [
    {
     "name": "stdout",
     "output_type": "stream",
     "text": [
      "WARNING:tensorflow:From C:\\Users\\Admin\\AppData\\Roaming\\Python\\Python39\\site-packages\\keras\\src\\backend.py:873: The name tf.get_default_graph is deprecated. Please use tf.compat.v1.get_default_graph instead.\n",
      "\n",
      "WARNING:tensorflow:From C:\\Users\\Admin\\AppData\\Roaming\\Python\\Python39\\site-packages\\keras\\src\\optimizers\\__init__.py:309: The name tf.train.Optimizer is deprecated. Please use tf.compat.v1.train.Optimizer instead.\n",
      "\n",
      "Epoch 1/10\n",
      "WARNING:tensorflow:From C:\\Users\\Admin\\AppData\\Roaming\\Python\\Python39\\site-packages\\keras\\src\\utils\\tf_utils.py:492: The name tf.ragged.RaggedTensorValue is deprecated. Please use tf.compat.v1.ragged.RaggedTensorValue instead.\n",
      "\n",
      "WARNING:tensorflow:From C:\\Users\\Admin\\AppData\\Roaming\\Python\\Python39\\site-packages\\keras\\src\\engine\\base_layer_utils.py:384: The name tf.executing_eagerly_outside_functions is deprecated. Please use tf.compat.v1.executing_eagerly_outside_functions instead.\n",
      "\n",
      "50/50 [==============================] - 1s 17ms/step - loss: 2.2283 - accuracy: 0.1568 - val_loss: 2.0771 - val_accuracy: 0.2648\n",
      "Epoch 2/10\n",
      "50/50 [==============================] - 1s 12ms/step - loss: 1.9620 - accuracy: 0.3688 - val_loss: 1.8293 - val_accuracy: 0.4584\n",
      "Epoch 3/10\n",
      "50/50 [==============================] - 1s 12ms/step - loss: 1.7165 - accuracy: 0.5231 - val_loss: 1.5789 - val_accuracy: 0.5880\n",
      "Epoch 4/10\n",
      "50/50 [==============================] - 1s 12ms/step - loss: 1.4802 - accuracy: 0.6321 - val_loss: 1.3514 - val_accuracy: 0.6902\n",
      "Epoch 5/10\n",
      "50/50 [==============================] - 1s 12ms/step - loss: 1.2743 - accuracy: 0.7176 - val_loss: 1.1610 - val_accuracy: 0.7584\n",
      "Epoch 6/10\n",
      "50/50 [==============================] - 1s 12ms/step - loss: 1.1078 - accuracy: 0.7687 - val_loss: 1.0125 - val_accuracy: 0.7977\n",
      "Epoch 7/10\n",
      "50/50 [==============================] - 1s 12ms/step - loss: 0.9803 - accuracy: 0.7949 - val_loss: 0.9007 - val_accuracy: 0.8193\n",
      "Epoch 8/10\n",
      "50/50 [==============================] - 1s 12ms/step - loss: 0.8839 - accuracy: 0.8115 - val_loss: 0.8157 - val_accuracy: 0.8307\n",
      "Epoch 9/10\n",
      "50/50 [==============================] - 1s 12ms/step - loss: 0.8095 - accuracy: 0.8224 - val_loss: 0.7501 - val_accuracy: 0.8417\n",
      "Epoch 10/10\n",
      "50/50 [==============================] - 1s 12ms/step - loss: 0.7509 - accuracy: 0.8310 - val_loss: 0.6978 - val_accuracy: 0.8497\n"
     ]
    }
   ],
   "source": [
    "model = Sequential([\n",
    "    Dense(32, input_shape=(784,)),\n",
    "    Activation('relu'),\n",
    "    Dense(10),\n",
    "    Activation('softmax'),\n",
    "])\n",
    "\n",
    "# You can also simply add layers via the .add() method:\n",
    "\n",
    "# model = Sequential()\n",
    "# model.add(Dense(32, input_dim=784))\n",
    "# model.add(Activation('relu'))\n",
    "\n",
    "model.compile(optimizer='sgd', loss='categorical_crossentropy', metrics=['accuracy'])\n",
    "history = model.fit(X_train, Y_train, steps_per_epoch=50, epochs=nb_epoch, verbose=1, validation_data=(X_test, Y_test))"
   ]
  },
  {
   "cell_type": "code",
   "execution_count": 11,
   "id": "d2fdf6fa",
   "metadata": {},
   "outputs": [
    {
     "name": "stdout",
     "output_type": "stream",
     "text": [
      "Test score: 0.6978126168251038\n",
      "Test accuracy: 0.8496999740600586\n"
     ]
    },
    {
     "data": {
      "image/png": "[encoded data removed]",
      "text/plain": [
       "<Figure size 640x480 with 1 Axes>"
      ]
     },
     "metadata": {},
     "output_type": "display_data"
    }
   ],
   "source": [
    "score = model.evaluate(X_test, Y_test, verbose=0) \n",
    "print('Test score:', score[0]) \n",
    "print('Test accuracy:', score[1])\n",
    "\n",
    "fig,ax = plt.subplots(1,1)\n",
    "ax.set_xlabel('epoch') ; ax.set_ylabel('Categorical Crossentropy Loss')\n",
    "\n",
    "# list of epoch numbers\n",
    "x = list(range(1,nb_epoch+1))\n",
    "\n",
    "vy = history.history['val_loss']\n",
    "ty = history.history['loss']\n",
    "plt_dynamic(x, vy, ty, ax)"
   ]
  },
  {
   "cell_type": "markdown",
   "id": "1fb7e648",
   "metadata": {},
   "source": [
    " <h3>  MLP + Sigmoid activation + SGDOptimizer </h3>"
   ]
  },
  {
   "cell_type": "code",
   "execution_count": 12,
   "id": "b197d4a0",
   "metadata": {},
   "outputs": [
    {
     "name": "stdout",
     "output_type": "stream",
     "text": [
      "Model: \"sequential_1\"\n",
      "_________________________________________________________________\n",
      " Layer (type)                Output Shape              Param #   \n",
      "=================================================================\n",
      " dense_2 (Dense)             (None, 512)               401920    \n",
      "                                                                 \n",
      " dense_3 (Dense)             (None, 128)               65664     \n",
      "                                                                 \n",
      " dense_4 (Dense)             (None, 10)                1290      \n",
      "                                                                 \n",
      "=================================================================\n",
      "Total params: 468874 (1.79 MB)\n",
      "Trainable params: 468874 (1.79 MB)\n",
      "Non-trainable params: 0 (0.00 Byte)\n",
      "_________________________________________________________________\n"
     ]
    }
   ],
   "source": [
    "model_sigmoid = Sequential()\n",
    "model_sigmoid.add(Dense(512, activation='sigmoid', input_shape=(input_dim,)))\n",
    "model_sigmoid.add(Dense(128, activation='sigmoid'))\n",
    "model_sigmoid.add(Dense(output_dim, activation='softmax'))\n",
    "\n",
    "model_sigmoid.summary()"
   ]
  },
  {
   "cell_type": "code",
   "execution_count": 13,
   "id": "466e3895",
   "metadata": {},
   "outputs": [
    {
     "name": "stdout",
     "output_type": "stream",
     "text": [
      "Epoch 1/10\n",
      "469/469 [==============================] - 4s 7ms/step - loss: 2.2693 - accuracy: 0.2256 - val_loss: 2.2245 - val_accuracy: 0.3547\n",
      "Epoch 2/10\n",
      "469/469 [==============================] - 3s 6ms/step - loss: 2.1823 - accuracy: 0.4566 - val_loss: 2.1290 - val_accuracy: 0.5691\n",
      "Epoch 3/10\n",
      "469/469 [==============================] - 3s 6ms/step - loss: 2.0705 - accuracy: 0.5936 - val_loss: 1.9929 - val_accuracy: 0.6713\n",
      "Epoch 4/10\n",
      "469/469 [==============================] - 3s 6ms/step - loss: 1.9109 - accuracy: 0.6601 - val_loss: 1.8031 - val_accuracy: 0.6776\n",
      "Epoch 5/10\n",
      "469/469 [==============================] - 3s 6ms/step - loss: 1.7014 - accuracy: 0.6985 - val_loss: 1.5724 - val_accuracy: 0.7100\n",
      "Epoch 6/10\n",
      "469/469 [==============================] - 3s 6ms/step - loss: 1.4711 - accuracy: 0.7327 - val_loss: 1.3434 - val_accuracy: 0.7543\n",
      "Epoch 7/10\n",
      "469/469 [==============================] - 3s 6ms/step - loss: 1.2599 - accuracy: 0.7584 - val_loss: 1.1487 - val_accuracy: 0.7831\n",
      "Epoch 8/10\n",
      "469/469 [==============================] - 3s 6ms/step - loss: 1.0886 - accuracy: 0.7807 - val_loss: 0.9983 - val_accuracy: 0.7934\n",
      "Epoch 9/10\n",
      "469/469 [==============================] - 3s 6ms/step - loss: 0.9568 - accuracy: 0.7952 - val_loss: 0.8842 - val_accuracy: 0.8146\n",
      "Epoch 10/10\n",
      "469/469 [==============================] - 3s 6ms/step - loss: 0.8567 - accuracy: 0.8091 - val_loss: 0.7954 - val_accuracy: 0.8222\n"
     ]
    }
   ],
   "source": [
    "model_sigmoid.compile(optimizer='sgd', loss='categorical_crossentropy', metrics=['accuracy'])\n",
    "\n",
    "history = model_sigmoid.fit(X_train, Y_train, batch_size=batch_size, epochs=nb_epoch, verbose=1, validation_data=(X_test, Y_test))"
   ]
  },
  {
   "cell_type": "code",
   "execution_count": 56,
   "id": "c03caa06",
   "metadata": {},
   "outputs": [
    {
     "name": "stdout",
     "output_type": "stream",
     "text": [
      "Test score: 0.7873236536979675\n",
      "Test accuracy: 0.8245000243186951\n"
     ]
    },
    {
     "data": {
      "image/png": "[encoded data removed]",
      "text/plain": [
       "<Figure size 640x480 with 1 Axes>"
      ]
     },
     "metadata": {},
     "output_type": "display_data"
    }
   ],
   "source": [
    "score = model_sigmoid.evaluate(X_test, Y_test, verbose=0) \n",
    "print('Test score:', score[0]) \n",
    "print('Test accuracy:', score[1])\n",
    "\n",
    "fig,ax = plt.subplots(1,1)\n",
    "ax.set_xlabel('epoch') ; ax.set_ylabel('Categorical Crossentropy Loss')\n",
    "\n",
    "# list of epoch numbers\n",
    "x = list(range(1,nb_epoch+1))\n",
    "vy = history.history['val_loss']\n",
    "ty = history.history['loss']\n",
    "plt_dynamic(x, vy, ty, ax)"
   ]
  },
  {
   "cell_type": "code",
   "execution_count": 57,
   "id": "68198ea1",
   "metadata": {},
   "outputs": [
    {
     "name": "stderr",
     "output_type": "stream",
     "text": [
      "C:\\Users\\DELL\\AppData\\Local\\Temp\\ipykernel_14344\\568197572.py:10: MatplotlibDeprecationWarning: Auto-removal of overlapping axes is deprecated since 3.6 and will be removed two minor releases later; explicitly call ax.remove() as needed.\n",
      "  plt.subplot(1, 3, 1)\n"
     ]
    },
    {
     "data": {
      "image/png": "[encoded data removed]",
      "text/plain": [
       "<Figure size 640x480 with 3 Axes>"
      ]
     },
     "metadata": {},
     "output_type": "display_data"
    }
   ],
   "source": [
    "w_after = model_sigmoid.get_weights()\n",
    "\n",
    "h1_w = w_after[0].flatten().reshape(-1,1)\n",
    "h2_w = w_after[2].flatten().reshape(-1,1)\n",
    "out_w = w_after[4].flatten().reshape(-1,1)\n",
    "\n",
    "\n",
    "fig = plt.figure()\n",
    "plt.title(\"Weight matrices after model trained\")\n",
    "plt.subplot(1, 3, 1)\n",
    "plt.title(\"Trained model Weights\")\n",
    "ax = sns.violinplot(y=h1_w,color='b')\n",
    "plt.xlabel('Hidden Layer 1')\n",
    "\n",
    "plt.subplot(1, 3, 2)\n",
    "plt.title(\"Trained model Weights\")\n",
    "ax = sns.violinplot(y=h2_w, color='r')\n",
    "plt.xlabel('Hidden Layer 2 ')\n",
    "\n",
    "plt.subplot(1, 3, 3)\n",
    "plt.title(\"Trained model Weights\")\n",
    "ax = sns.violinplot(y=out_w,color='y')\n",
    "plt.xlabel('Output Layer ')\n",
    "plt.show()"
   ]
  },
  {
   "cell_type": "markdown",
   "id": "caabb76f",
   "metadata": {},
   "source": [
    "Model-1: 4 hidden layers having 128, 64, 32, 16 number of neurons respectively with activation function sigmoid, tanh, relu and selu respectively and dropout rate set to 0.5, 0.4, 0.3, 0.1 respectively. Use optimizer as SGD with batch size set to 32."
   ]
  },
  {
   "cell_type": "code",
   "execution_count": 14,
   "id": "e87df120",
   "metadata": {},
   "outputs": [],
   "source": [
    "output_dim = 10\n",
    "input_dim = X_train.shape[1]\n",
    "\n",
    "batch_size = 128 \n",
    "nb_epoch = 5"
   ]
  },
  {
   "cell_type": "code",
   "execution_count": 15,
   "id": "c074aabf",
   "metadata": {},
   "outputs": [],
   "source": [
    "def  train():\n",
    "    model1 = Sequential()\n",
    "    model1.add(Dense(128, input_dim=input_dim, activation='sigmoid'))\n",
    "    model1.add(Dropout(0.5))\n",
    "\n",
    "    model1.add(Dense(64, input_dim=input_dim, activation='tanh'))\n",
    "    model1.add(Dropout(0.4))\n",
    "\n",
    "    model1.add(Dense(32, input_dim=input_dim, activation='relu'))\n",
    "    model1.add(Dropout(0.3))\n",
    "\n",
    "    model1.add(Dense(16, input_dim=input_dim, activation='selu'))\n",
    "    model1.add(Dropout(0.1))\n",
    "\n",
    "    model1.add(Dense(10, input_dim=input_dim, activation='softmax'))\n",
    "\n",
    "    model1.compile(loss='categorical_crossentropy',optimizer='sgd',metrics=['accuracy'])\n",
    "    model1.fit(X_train, Y_train, batch_size=32, epochs=nb_epoch, verbose=1, validation_data=(X_test, Y_test))\n",
    "    score = model1.evaluate(X_test, Y_test, verbose=0) \n",
    "    return score[1]"
   ]
  },
  {
   "cell_type": "code",
   "execution_count": 16,
   "id": "ad2466c6",
   "metadata": {},
   "outputs": [
    {
     "name": "stdout",
     "output_type": "stream",
     "text": [
      "Epoch 1/5\n",
      "1875/1875 [==============================] - 6s 3ms/step - loss: 2.2376 - accuracy: 0.1661 - val_loss: 1.6430 - val_accuracy: 0.4988\n",
      "Epoch 2/5\n",
      "1875/1875 [==============================] - 5s 3ms/step - loss: 1.6503 - accuracy: 0.3821 - val_loss: 0.9992 - val_accuracy: 0.6815\n",
      "Epoch 3/5\n",
      "1875/1875 [==============================] - 5s 3ms/step - loss: 1.2387 - accuracy: 0.5487 - val_loss: 0.7411 - val_accuracy: 0.7847\n",
      "Epoch 4/5\n",
      "1875/1875 [==============================] - 5s 3ms/step - loss: 1.0314 - accuracy: 0.6413 - val_loss: 0.6184 - val_accuracy: 0.8286\n",
      "Epoch 5/5\n",
      "1875/1875 [==============================] - 5s 3ms/step - loss: 0.9101 - accuracy: 0.6923 - val_loss: 0.5376 - val_accuracy: 0.8485\n",
      "Epoch 1/5\n",
      "1875/1875 [==============================] - 6s 3ms/step - loss: 2.3095 - accuracy: 0.1282 - val_loss: 2.0898 - val_accuracy: 0.2923\n",
      "Epoch 2/5\n",
      "1875/1875 [==============================] - 5s 3ms/step - loss: 1.8817 - accuracy: 0.3013 - val_loss: 1.1614 - val_accuracy: 0.6164\n",
      "Epoch 3/5\n",
      "1875/1875 [==============================] - 5s 2ms/step - loss: 1.3617 - accuracy: 0.4946 - val_loss: 0.8437 - val_accuracy: 0.7530\n",
      "Epoch 4/5\n",
      "1875/1875 [==============================] - 5s 2ms/step - loss: 1.0911 - accuracy: 0.6102 - val_loss: 0.6403 - val_accuracy: 0.8165\n",
      "Epoch 5/5\n",
      "1875/1875 [==============================] - 5s 3ms/step - loss: 0.9305 - accuracy: 0.6839 - val_loss: 0.5293 - val_accuracy: 0.8556\n",
      "Epoch 1/5\n",
      "1875/1875 [==============================] - 6s 3ms/step - loss: 2.2954 - accuracy: 0.1383 - val_loss: 2.0130 - val_accuracy: 0.3246\n",
      "Epoch 2/5\n",
      "1875/1875 [==============================] - 5s 3ms/step - loss: 1.8175 - accuracy: 0.3255 - val_loss: 1.1453 - val_accuracy: 0.6358\n",
      "Epoch 3/5\n",
      "1875/1875 [==============================] - 5s 3ms/step - loss: 1.3253 - accuracy: 0.5121 - val_loss: 0.8141 - val_accuracy: 0.7555\n",
      "Epoch 4/5\n",
      "1875/1875 [==============================] - 6s 3ms/step - loss: 1.0889 - accuracy: 0.6121 - val_loss: 0.6676 - val_accuracy: 0.8000\n",
      "Epoch 5/5\n",
      "1875/1875 [==============================] - 5s 3ms/step - loss: 0.9470 - accuracy: 0.6770 - val_loss: 0.5657 - val_accuracy: 0.8375\n",
      "Test accuracy: 0.8471999963124593\n"
     ]
    }
   ],
   "source": [
    "avg_accuracy = 0\n",
    "for _ in range(3):\n",
    "    score = train()\n",
    "    avg_accuracy += score\n",
    "avg_accuracy /= 3\n",
    "print('Test accuracy:', avg_accuracy)"
   ]
  },
  {
   "cell_type": "code",
   "execution_count": 38,
   "id": "d86d9668",
   "metadata": {},
   "outputs": [],
   "source": [
    "def  train1():\n",
    "    model2 = Sequential()\n",
    "    model2.add(Dense(128, input_dim=input_dim, activation='sigmoid'))\n",
    "    model2.add(Dropout(0.5))\n",
    "\n",
    "    model2.add(Dense(64, input_dim=input_dim, activation='tanh'))\n",
    "    model2.add(Dropout(0.4))\n",
    "\n",
    "    model2.add(Dense(32, input_dim=input_dim, activation='relu'))\n",
    "    model2.add(Dropout(0.3))\n",
    "\n",
    "    model2.add(Dense(16, input_dim=input_dim, activation='selu'))\n",
    "    model2.add(Dropout(0.1))\n",
    "\n",
    "    model2.add(Dense(10, input_dim=input_dim, activation='softmax'))\n",
    "\n",
    "    model2.compile(loss='categorical_crossentropy',optimizer='adam',metrics=['accuracy'])\n",
    "    model2.fit(X_train, Y_train, batch_size=32, epochs=nb_epoch, verbose=1, validation_data=(X_test, Y_test))\n",
    "    score = model2.evaluate(X_test, Y_test, verbose=0) \n",
    "    return score[1]"
   ]
  },
  {
   "cell_type": "code",
   "execution_count": 37,
   "id": "1d51ee43",
   "metadata": {},
   "outputs": [],
   "source": [
    "def  train2():\n",
    "    model3 = Sequential()\n",
    "    model3.add(Dense(128, input_dim=input_dim, activation='sigmoid'))\n",
    "    model3.add(Dropout(0.5))\n",
    "\n",
    "    model3.add(Dense(64, input_dim=input_dim, activation='tanh'))\n",
    "    model3.add(Dropout(0.4))\n",
    "\n",
    "    model3.add(Dense(32, input_dim=input_dim, activation='relu'))\n",
    "    model3.add(Dropout(0.3))\n",
    "\n",
    "    model3.add(Dense(16, input_dim=input_dim, activation='selu'))\n",
    "    model3.add(Dropout(0.1))\n",
    "\n",
    "    model3.add(Dense(10, input_dim=input_dim, activation='softmax'))\n",
    "\n",
    "    model3.compile(loss='categorical_crossentropy',optimizer=keras.optimizers.AdamW(learning_rate=0.01),metrics=['accuracy'])\n",
    "    model3.fit(X_train, Y_train, batch_size=32, epochs=nb_epoch, verbose=1, validation_data=(X_test, Y_test))\n",
    "    score = model3.evaluate(X_test, Y_test, verbose=0) \n",
    "    return score[1]"
   ]
  },
  {
   "cell_type": "code",
   "execution_count": 36,
   "id": "4159e74f",
   "metadata": {},
   "outputs": [],
   "source": [
    "def  train3():\n",
    "    model4 = Sequential()\n",
    "    model4.add(Dense(128, input_dim=input_dim, activation='sigmoid'))\n",
    "    model4.add(Dropout(0.5))\n",
    "\n",
    "    model4.add(Dense(64, input_dim=input_dim, activation='tanh'))\n",
    "    model4.add(Dropout(0.4))\n",
    "\n",
    "    model4.add(Dense(32, input_dim=input_dim, activation='relu'))\n",
    "    model4.add(Dropout(0.3))\n",
    "\n",
    "    model4.add(Dense(16, input_dim=input_dim, activation='selu'))\n",
    "    model4.add(Dropout(0.1))\n",
    "\n",
    "    model4.add(Dense(10, input_dim=input_dim, activation='softmax'))\n",
    "\n",
    "    model4.compile(loss='categorical_crossentropy', optimizer=keras.optimizers.Nadam(learning_rate=0.01),metrics=['accuracy'])\n",
    "    model4.fit(X_train, Y_train, batch_size=32, epochs=nb_epoch, verbose=1, validation_data=(X_test, Y_test))\n",
    "    score = model4.evaluate(X_test, Y_test, verbose=0) \n",
    "    return score[1]"
   ]
  },
  {
   "cell_type": "code",
   "execution_count": 39,
   "id": "3007f9cd",
   "metadata": {},
   "outputs": [
    {
     "name": "stdout",
     "output_type": "stream",
     "text": [
      "Epoch 1/5\n",
      "1875/1875 [==============================] - 6s 3ms/step - loss: 2.2397 - accuracy: 0.1699 - val_loss: 1.6860 - val_accuracy: 0.3917\n",
      "Epoch 2/5\n",
      "1875/1875 [==============================] - 5s 3ms/step - loss: 1.6267 - accuracy: 0.3887 - val_loss: 0.9807 - val_accuracy: 0.6784\n",
      "Epoch 3/5\n",
      "1875/1875 [==============================] - 5s 3ms/step - loss: 1.2306 - accuracy: 0.5432 - val_loss: 0.7584 - val_accuracy: 0.7755\n",
      "Epoch 4/5\n",
      "1875/1875 [==============================] - 5s 3ms/step - loss: 1.0305 - accuracy: 0.6400 - val_loss: 0.5904 - val_accuracy: 0.8358\n",
      "Epoch 5/5\n",
      "1875/1875 [==============================] - 5s 3ms/step - loss: 0.8925 - accuracy: 0.6996 - val_loss: 0.5070 - val_accuracy: 0.8624\n",
      "Epoch 1/5\n",
      "1875/1875 [==============================] - 7s 3ms/step - loss: 0.8633 - accuracy: 0.7160 - val_loss: 0.2776 - val_accuracy: 0.9217\n",
      "Epoch 2/5\n",
      "1875/1875 [==============================] - 6s 3ms/step - loss: 0.4376 - accuracy: 0.8766 - val_loss: 0.2218 - val_accuracy: 0.9366\n",
      "Epoch 3/5\n",
      "1875/1875 [==============================] - 6s 3ms/step - loss: 0.3505 - accuracy: 0.9043 - val_loss: 0.1913 - val_accuracy: 0.9456\n",
      "Epoch 4/5\n",
      "1875/1875 [==============================] - 6s 3ms/step - loss: 0.3072 - accuracy: 0.9172 - val_loss: 0.1666 - val_accuracy: 0.9524\n",
      "Epoch 5/5\n",
      "1875/1875 [==============================] - 6s 3ms/step - loss: 0.2798 - accuracy: 0.9250 - val_loss: 0.1513 - val_accuracy: 0.9575\n",
      "Epoch 1/5\n",
      "1875/1875 [==============================] - 7s 3ms/step - loss: 0.7386 - accuracy: 0.7767 - val_loss: 0.2759 - val_accuracy: 0.9284\n",
      "Epoch 2/5\n",
      "1875/1875 [==============================] - 6s 3ms/step - loss: 0.5129 - accuracy: 0.8661 - val_loss: 0.2474 - val_accuracy: 0.9400\n",
      "Epoch 3/5\n",
      "1875/1875 [==============================] - 6s 3ms/step - loss: 0.4822 - accuracy: 0.8779 - val_loss: 0.2596 - val_accuracy: 0.9381\n",
      "Epoch 4/5\n",
      "1875/1875 [==============================] - 6s 3ms/step - loss: 0.4678 - accuracy: 0.8803 - val_loss: 0.2725 - val_accuracy: 0.9318\n",
      "Epoch 5/5\n",
      "1875/1875 [==============================] - 6s 3ms/step - loss: 0.4574 - accuracy: 0.8851 - val_loss: 0.2249 - val_accuracy: 0.9431\n",
      "Epoch 1/5\n",
      "1875/1875 [==============================] - 8s 3ms/step - loss: 0.6712 - accuracy: 0.8043 - val_loss: 0.2650 - val_accuracy: 0.9333\n",
      "Epoch 2/5\n",
      "1875/1875 [==============================] - 6s 3ms/step - loss: 0.4801 - accuracy: 0.8766 - val_loss: 0.3004 - val_accuracy: 0.9286\n",
      "Epoch 3/5\n",
      "1875/1875 [==============================] - 6s 3ms/step - loss: 0.4668 - accuracy: 0.8819 - val_loss: 0.2464 - val_accuracy: 0.9412\n",
      "Epoch 4/5\n",
      "1875/1875 [==============================] - 6s 3ms/step - loss: 0.4526 - accuracy: 0.8892 - val_loss: 0.2542 - val_accuracy: 0.9391\n",
      "Epoch 5/5\n",
      "1875/1875 [==============================] - 6s 3ms/step - loss: 0.4466 - accuracy: 0.8882 - val_loss: 0.2284 - val_accuracy: 0.9458\n",
      "Epoch 1/5\n",
      "1875/1875 [==============================] - 6s 3ms/step - loss: 2.3223 - accuracy: 0.1142 - val_loss: 2.2859 - val_accuracy: 0.1336\n",
      "Epoch 2/5\n",
      "1875/1875 [==============================] - 5s 3ms/step - loss: 2.0792 - accuracy: 0.2323 - val_loss: 1.3742 - val_accuracy: 0.5470\n",
      "Epoch 3/5\n",
      "1875/1875 [==============================] - 5s 3ms/step - loss: 1.4948 - accuracy: 0.4427 - val_loss: 0.9331 - val_accuracy: 0.6726\n",
      "Epoch 4/5\n",
      "1875/1875 [==============================] - 5s 3ms/step - loss: 1.1748 - accuracy: 0.5764 - val_loss: 0.7021 - val_accuracy: 0.7775\n",
      "Epoch 5/5\n",
      "1875/1875 [==============================] - 5s 3ms/step - loss: 0.9821 - accuracy: 0.6590 - val_loss: 0.5725 - val_accuracy: 0.8263\n",
      "Epoch 1/5\n",
      "1875/1875 [==============================] - 7s 3ms/step - loss: 0.9049 - accuracy: 0.6994 - val_loss: 0.2725 - val_accuracy: 0.9228\n",
      "Epoch 2/5\n",
      "1875/1875 [==============================] - 6s 3ms/step - loss: 0.4358 - accuracy: 0.8770 - val_loss: 0.2112 - val_accuracy: 0.9393\n",
      "Epoch 3/5\n",
      "1875/1875 [==============================] - 6s 3ms/step - loss: 0.3510 - accuracy: 0.9036 - val_loss: 0.1796 - val_accuracy: 0.9499\n",
      "Epoch 4/5\n",
      "1875/1875 [==============================] - 6s 3ms/step - loss: 0.3066 - accuracy: 0.9168 - val_loss: 0.1708 - val_accuracy: 0.9550\n",
      "Epoch 5/5\n",
      "1875/1875 [==============================] - 6s 3ms/step - loss: 0.2778 - accuracy: 0.9252 - val_loss: 0.1544 - val_accuracy: 0.9593\n",
      "Epoch 1/5\n",
      "1875/1875 [==============================] - 7s 3ms/step - loss: 0.7196 - accuracy: 0.7828 - val_loss: 0.2861 - val_accuracy: 0.9240\n",
      "Epoch 2/5\n",
      "1875/1875 [==============================] - 6s 3ms/step - loss: 0.5174 - accuracy: 0.8646 - val_loss: 0.2476 - val_accuracy: 0.9349\n",
      "Epoch 3/5\n",
      "1875/1875 [==============================] - 6s 3ms/step - loss: 0.4837 - accuracy: 0.8785 - val_loss: 0.2271 - val_accuracy: 0.9421\n",
      "Epoch 4/5\n",
      "1875/1875 [==============================] - 6s 3ms/step - loss: 0.4652 - accuracy: 0.8822 - val_loss: 0.2450 - val_accuracy: 0.9413\n",
      "Epoch 5/5\n",
      "1875/1875 [==============================] - 6s 3ms/step - loss: 0.4606 - accuracy: 0.8856 - val_loss: 0.2542 - val_accuracy: 0.9421\n",
      "Epoch 1/5\n",
      "1875/1875 [==============================] - 8s 3ms/step - loss: 0.6577 - accuracy: 0.8095 - val_loss: 0.2627 - val_accuracy: 0.9321\n",
      "Epoch 2/5\n",
      "1875/1875 [==============================] - 6s 3ms/step - loss: 0.4872 - accuracy: 0.8749 - val_loss: 0.2632 - val_accuracy: 0.9401\n",
      "Epoch 3/5\n",
      "1875/1875 [==============================] - 6s 3ms/step - loss: 0.4632 - accuracy: 0.8858 - val_loss: 0.2443 - val_accuracy: 0.9434\n",
      "Epoch 4/5\n",
      "1875/1875 [==============================] - 6s 3ms/step - loss: 0.4469 - accuracy: 0.8873 - val_loss: 0.2385 - val_accuracy: 0.9393\n",
      "Epoch 5/5\n",
      "1875/1875 [==============================] - 6s 3ms/step - loss: 0.4365 - accuracy: 0.8921 - val_loss: 0.2403 - val_accuracy: 0.9444\n",
      "Epoch 1/5\n",
      "1875/1875 [==============================] - 6s 3ms/step - loss: 2.3216 - accuracy: 0.1155 - val_loss: 2.2951 - val_accuracy: 0.0970\n",
      "Epoch 2/5\n",
      "1875/1875 [==============================] - 5s 3ms/step - loss: 2.0880 - accuracy: 0.2173 - val_loss: 1.4692 - val_accuracy: 0.5454\n",
      "Epoch 3/5\n",
      "1875/1875 [==============================] - 5s 3ms/step - loss: 1.5116 - accuracy: 0.4395 - val_loss: 0.8926 - val_accuracy: 0.7510\n",
      "Epoch 4/5\n",
      "1875/1875 [==============================] - 5s 3ms/step - loss: 1.1463 - accuracy: 0.5920 - val_loss: 0.6510 - val_accuracy: 0.8194\n",
      "Epoch 5/5\n",
      "1875/1875 [==============================] - 5s 3ms/step - loss: 0.9626 - accuracy: 0.6707 - val_loss: 0.5491 - val_accuracy: 0.8445\n",
      "Epoch 1/5\n",
      "1875/1875 [==============================] - 7s 3ms/step - loss: 0.9100 - accuracy: 0.6998 - val_loss: 0.2881 - val_accuracy: 0.9197\n",
      "Epoch 2/5\n",
      "1875/1875 [==============================] - 6s 3ms/step - loss: 0.4501 - accuracy: 0.8738 - val_loss: 0.2135 - val_accuracy: 0.9386\n",
      "Epoch 3/5\n",
      "1875/1875 [==============================] - 6s 3ms/step - loss: 0.3594 - accuracy: 0.9006 - val_loss: 0.1784 - val_accuracy: 0.9502\n",
      "Epoch 4/5\n",
      "1875/1875 [==============================] - 6s 3ms/step - loss: 0.3131 - accuracy: 0.9150 - val_loss: 0.1617 - val_accuracy: 0.9551\n",
      "Epoch 5/5\n",
      "1875/1875 [==============================] - 6s 3ms/step - loss: 0.2815 - accuracy: 0.9225 - val_loss: 0.1518 - val_accuracy: 0.9594\n",
      "Epoch 1/5\n",
      "1875/1875 [==============================] - 8s 4ms/step - loss: 0.7969 - accuracy: 0.7523 - val_loss: 0.3067 - val_accuracy: 0.9216\n",
      "Epoch 2/5\n",
      "1875/1875 [==============================] - 7s 4ms/step - loss: 0.5389 - accuracy: 0.8610 - val_loss: 0.3143 - val_accuracy: 0.9200\n",
      "Epoch 3/5\n",
      "1875/1875 [==============================] - 6s 3ms/step - loss: 0.5091 - accuracy: 0.8715 - val_loss: 0.2482 - val_accuracy: 0.9420\n",
      "Epoch 4/5\n",
      "1875/1875 [==============================] - 6s 3ms/step - loss: 0.4894 - accuracy: 0.8770 - val_loss: 0.2676 - val_accuracy: 0.9398\n",
      "Epoch 5/5\n",
      "1875/1875 [==============================] - 7s 4ms/step - loss: 0.4744 - accuracy: 0.8836 - val_loss: 0.2662 - val_accuracy: 0.9390\n",
      "Epoch 1/5\n",
      "1875/1875 [==============================] - 9s 3ms/step - loss: 0.6737 - accuracy: 0.7994 - val_loss: 0.2798 - val_accuracy: 0.9296\n",
      "Epoch 2/5\n",
      "1875/1875 [==============================] - 6s 3ms/step - loss: 0.5000 - accuracy: 0.8719 - val_loss: 0.2461 - val_accuracy: 0.9391\n",
      "Epoch 3/5\n",
      "1875/1875 [==============================] - 6s 3ms/step - loss: 0.4763 - accuracy: 0.8797 - val_loss: 0.2285 - val_accuracy: 0.9426\n",
      "Epoch 4/5\n",
      "1875/1875 [==============================] - 7s 4ms/step - loss: 0.4528 - accuracy: 0.8875 - val_loss: 0.2273 - val_accuracy: 0.9463\n",
      "Epoch 5/5\n",
      "1875/1875 [==============================] - 6s 3ms/step - loss: 0.4494 - accuracy: 0.8895 - val_loss: 0.2265 - val_accuracy: 0.9481\n",
      "Epoch 1/5\n",
      "1875/1875 [==============================] - 6s 3ms/step - loss: 2.2857 - accuracy: 0.1416 - val_loss: 2.0197 - val_accuracy: 0.2898\n",
      "Epoch 2/5\n",
      "1875/1875 [==============================] - 5s 3ms/step - loss: 1.9021 - accuracy: 0.2975 - val_loss: 1.2420 - val_accuracy: 0.6077\n",
      "Epoch 3/5\n",
      "1875/1875 [==============================] - 5s 3ms/step - loss: 1.3711 - accuracy: 0.4943 - val_loss: 0.8212 - val_accuracy: 0.7426\n",
      "Epoch 4/5\n",
      "1875/1875 [==============================] - 5s 2ms/step - loss: 1.0875 - accuracy: 0.6131 - val_loss: 0.6691 - val_accuracy: 0.7999\n",
      "Epoch 5/5\n",
      "1875/1875 [==============================] - 5s 3ms/step - loss: 0.9542 - accuracy: 0.6704 - val_loss: 0.5957 - val_accuracy: 0.8327\n",
      "Epoch 1/5\n",
      "1875/1875 [==============================] - 7s 3ms/step - loss: 0.8747 - accuracy: 0.7124 - val_loss: 0.2858 - val_accuracy: 0.9195\n",
      "Epoch 2/5\n",
      "1875/1875 [==============================] - 6s 3ms/step - loss: 0.4388 - accuracy: 0.8767 - val_loss: 0.2179 - val_accuracy: 0.9391\n",
      "Epoch 3/5\n",
      "1875/1875 [==============================] - 6s 3ms/step - loss: 0.3547 - accuracy: 0.9025 - val_loss: 0.1882 - val_accuracy: 0.9474\n",
      "Epoch 4/5\n",
      "1875/1875 [==============================] - 6s 3ms/step - loss: 0.3053 - accuracy: 0.9164 - val_loss: 0.1610 - val_accuracy: 0.9539\n",
      "Epoch 5/5\n",
      "1875/1875 [==============================] - 6s 3ms/step - loss: 0.2770 - accuracy: 0.9251 - val_loss: 0.1482 - val_accuracy: 0.9582\n",
      "Epoch 1/5\n",
      "1875/1875 [==============================] - 7s 3ms/step - loss: 0.8409 - accuracy: 0.7314 - val_loss: 0.2967 - val_accuracy: 0.9272\n",
      "Epoch 2/5\n",
      "1875/1875 [==============================] - 6s 3ms/step - loss: 0.5512 - accuracy: 0.8540 - val_loss: 0.2720 - val_accuracy: 0.9328\n",
      "Epoch 3/5\n",
      "1875/1875 [==============================] - 6s 3ms/step - loss: 0.5131 - accuracy: 0.8705 - val_loss: 0.2749 - val_accuracy: 0.9356\n",
      "Epoch 4/5\n",
      "1875/1875 [==============================] - 6s 3ms/step - loss: 0.4987 - accuracy: 0.8740 - val_loss: 0.2349 - val_accuracy: 0.9450\n",
      "Epoch 5/5\n",
      "1875/1875 [==============================] - 6s 3ms/step - loss: 0.4833 - accuracy: 0.8790 - val_loss: 0.2359 - val_accuracy: 0.9449\n",
      "Epoch 1/5\n",
      "1875/1875 [==============================] - 8s 3ms/step - loss: 0.6734 - accuracy: 0.8019 - val_loss: 0.2902 - val_accuracy: 0.9254\n",
      "Epoch 2/5\n",
      "1875/1875 [==============================] - 6s 3ms/step - loss: 0.4967 - accuracy: 0.8717 - val_loss: 0.2427 - val_accuracy: 0.9394\n",
      "Epoch 3/5\n",
      "1875/1875 [==============================] - 6s 3ms/step - loss: 0.4609 - accuracy: 0.8837 - val_loss: 0.2397 - val_accuracy: 0.9422\n",
      "Epoch 4/5\n",
      "1875/1875 [==============================] - 6s 3ms/step - loss: 0.4495 - accuracy: 0.8875 - val_loss: 0.2468 - val_accuracy: 0.9412\n",
      "Epoch 5/5\n",
      "1875/1875 [==============================] - 6s 3ms/step - loss: 0.4465 - accuracy: 0.8903 - val_loss: 0.2175 - val_accuracy: 0.9493\n",
      "Epoch 1/5\n",
      "1875/1875 [==============================] - 6s 3ms/step - loss: 2.2672 - accuracy: 0.1491 - val_loss: 1.9776 - val_accuracy: 0.3159\n",
      "Epoch 2/5\n",
      "1875/1875 [==============================] - 5s 3ms/step - loss: 1.8252 - accuracy: 0.3317 - val_loss: 1.1783 - val_accuracy: 0.6031\n",
      "Epoch 3/5\n",
      "1875/1875 [==============================] - 5s 3ms/step - loss: 1.3504 - accuracy: 0.4990 - val_loss: 0.8576 - val_accuracy: 0.7568\n",
      "Epoch 4/5\n",
      "1875/1875 [==============================] - 5s 2ms/step - loss: 1.1128 - accuracy: 0.5999 - val_loss: 0.6821 - val_accuracy: 0.7953\n",
      "Epoch 5/5\n",
      "1875/1875 [==============================] - 5s 3ms/step - loss: 0.9694 - accuracy: 0.6648 - val_loss: 0.5898 - val_accuracy: 0.8358\n",
      "Epoch 1/5\n",
      "1875/1875 [==============================] - 7s 3ms/step - loss: 0.8673 - accuracy: 0.7155 - val_loss: 0.2682 - val_accuracy: 0.9227\n",
      "Epoch 2/5\n",
      "1875/1875 [==============================] - 6s 3ms/step - loss: 0.4309 - accuracy: 0.8771 - val_loss: 0.2004 - val_accuracy: 0.9408\n",
      "Epoch 3/5\n",
      "1875/1875 [==============================] - 6s 3ms/step - loss: 0.3496 - accuracy: 0.9029 - val_loss: 0.1831 - val_accuracy: 0.9476\n",
      "Epoch 4/5\n",
      "1875/1875 [==============================] - 6s 3ms/step - loss: 0.3047 - accuracy: 0.9172 - val_loss: 0.1588 - val_accuracy: 0.9548\n",
      "Epoch 5/5\n",
      "1875/1875 [==============================] - 7s 4ms/step - loss: 0.2738 - accuracy: 0.9254 - val_loss: 0.1412 - val_accuracy: 0.9595\n",
      "Epoch 1/5\n",
      "1875/1875 [==============================] - 7s 3ms/step - loss: 0.7872 - accuracy: 0.7566 - val_loss: 0.2986 - val_accuracy: 0.9227\n",
      "Epoch 2/5\n",
      "1875/1875 [==============================] - 7s 4ms/step - loss: 0.5186 - accuracy: 0.8663 - val_loss: 0.2602 - val_accuracy: 0.9350\n",
      "Epoch 3/5\n",
      "1875/1875 [==============================] - 6s 3ms/step - loss: 0.4877 - accuracy: 0.8760 - val_loss: 0.2554 - val_accuracy: 0.9392\n",
      "Epoch 4/5\n",
      "1875/1875 [==============================] - 6s 3ms/step - loss: 0.4747 - accuracy: 0.8812 - val_loss: 0.2685 - val_accuracy: 0.9405\n",
      "Epoch 5/5\n",
      "1875/1875 [==============================] - 6s 3ms/step - loss: 0.4670 - accuracy: 0.8831 - val_loss: 0.2357 - val_accuracy: 0.9439\n",
      "Epoch 1/5\n",
      "1875/1875 [==============================] - 8s 3ms/step - loss: 0.6526 - accuracy: 0.8092 - val_loss: 0.2550 - val_accuracy: 0.9329\n",
      "Epoch 2/5\n",
      "1875/1875 [==============================] - 7s 4ms/step - loss: 0.4819 - accuracy: 0.8757 - val_loss: 0.2479 - val_accuracy: 0.9346\n",
      "Epoch 3/5\n",
      "1875/1875 [==============================] - 6s 3ms/step - loss: 0.4647 - accuracy: 0.8819 - val_loss: 0.2395 - val_accuracy: 0.9409\n",
      "Epoch 4/5\n",
      "1875/1875 [==============================] - 7s 4ms/step - loss: 0.4655 - accuracy: 0.8835 - val_loss: 0.2323 - val_accuracy: 0.9416\n",
      "Epoch 5/5\n",
      "1875/1875 [==============================] - 6s 3ms/step - loss: 0.4604 - accuracy: 0.8846 - val_loss: 0.2324 - val_accuracy: 0.9450\n",
      "Epoch 1/5\n",
      "1875/1875 [==============================] - 6s 3ms/step - loss: 2.3060 - accuracy: 0.1263 - val_loss: 2.1161 - val_accuracy: 0.2772\n",
      "Epoch 2/5\n",
      "1875/1875 [==============================] - 5s 3ms/step - loss: 1.9069 - accuracy: 0.2813 - val_loss: 1.1954 - val_accuracy: 0.6403\n",
      "Epoch 3/5\n",
      "1875/1875 [==============================] - 5s 3ms/step - loss: 1.3645 - accuracy: 0.5007 - val_loss: 0.8164 - val_accuracy: 0.7419\n",
      "Epoch 4/5\n",
      "1875/1875 [==============================] - 5s 3ms/step - loss: 1.0958 - accuracy: 0.6162 - val_loss: 0.6458 - val_accuracy: 0.8140\n",
      "Epoch 5/5\n",
      "1875/1875 [==============================] - 5s 2ms/step - loss: 0.9395 - accuracy: 0.6808 - val_loss: 0.5393 - val_accuracy: 0.8445\n",
      "Epoch 1/5\n",
      "1875/1875 [==============================] - 7s 3ms/step - loss: 0.9044 - accuracy: 0.6982 - val_loss: 0.3003 - val_accuracy: 0.9175\n",
      "Epoch 2/5\n",
      "1875/1875 [==============================] - 6s 3ms/step - loss: 0.4519 - accuracy: 0.8729 - val_loss: 0.2278 - val_accuracy: 0.9356\n",
      "Epoch 3/5\n",
      "1875/1875 [==============================] - 6s 3ms/step - loss: 0.3586 - accuracy: 0.9025 - val_loss: 0.1879 - val_accuracy: 0.9488\n",
      "Epoch 4/5\n",
      "1875/1875 [==============================] - 6s 3ms/step - loss: 0.3128 - accuracy: 0.9164 - val_loss: 0.1627 - val_accuracy: 0.9558\n",
      "Epoch 5/5\n",
      "1875/1875 [==============================] - 6s 3ms/step - loss: 0.2826 - accuracy: 0.9232 - val_loss: 0.1526 - val_accuracy: 0.9590\n",
      "Epoch 1/5\n",
      "1875/1875 [==============================] - 8s 3ms/step - loss: 0.7728 - accuracy: 0.7630 - val_loss: 0.2945 - val_accuracy: 0.9247\n",
      "Epoch 2/5\n",
      "1875/1875 [==============================] - 6s 3ms/step - loss: 0.5215 - accuracy: 0.8638 - val_loss: 0.2688 - val_accuracy: 0.9333\n",
      "Epoch 3/5\n",
      "1875/1875 [==============================] - 6s 3ms/step - loss: 0.4933 - accuracy: 0.8751 - val_loss: 0.2620 - val_accuracy: 0.9375\n",
      "Epoch 4/5\n",
      "1875/1875 [==============================] - 6s 3ms/step - loss: 0.4720 - accuracy: 0.8829 - val_loss: 0.2432 - val_accuracy: 0.9419\n",
      "Epoch 5/5\n",
      "1875/1875 [==============================] - 6s 3ms/step - loss: 0.4654 - accuracy: 0.8853 - val_loss: 0.2453 - val_accuracy: 0.9444\n",
      "Epoch 1/5\n",
      "1875/1875 [==============================] - 8s 4ms/step - loss: 0.6653 - accuracy: 0.8062 - val_loss: 0.2546 - val_accuracy: 0.9348\n",
      "Epoch 2/5\n",
      "1875/1875 [==============================] - 6s 3ms/step - loss: 0.4948 - accuracy: 0.8722 - val_loss: 0.2566 - val_accuracy: 0.9373\n",
      "Epoch 3/5\n",
      "1875/1875 [==============================] - 6s 3ms/step - loss: 0.4641 - accuracy: 0.8842 - val_loss: 0.2243 - val_accuracy: 0.9441\n",
      "Epoch 4/5\n",
      "1875/1875 [==============================] - 7s 3ms/step - loss: 0.4486 - accuracy: 0.8892 - val_loss: 0.2456 - val_accuracy: 0.9405\n",
      "Epoch 5/5\n",
      "1875/1875 [==============================] - 7s 4ms/step - loss: 0.4488 - accuracy: 0.8902 - val_loss: 0.2271 - val_accuracy: 0.9452\n",
      "Epoch 1/5\n",
      "1875/1875 [==============================] - 6s 3ms/step - loss: 2.2722 - accuracy: 0.1476 - val_loss: 1.8530 - val_accuracy: 0.3548\n",
      "Epoch 2/5\n",
      "1875/1875 [==============================] - 5s 3ms/step - loss: 1.7897 - accuracy: 0.3211 - val_loss: 1.2358 - val_accuracy: 0.5560\n",
      "Epoch 3/5\n",
      "1875/1875 [==============================] - 5s 3ms/step - loss: 1.3757 - accuracy: 0.4817 - val_loss: 0.8877 - val_accuracy: 0.7236\n",
      "Epoch 4/5\n",
      "1875/1875 [==============================] - 5s 3ms/step - loss: 1.1202 - accuracy: 0.5998 - val_loss: 0.6903 - val_accuracy: 0.8031\n",
      "Epoch 5/5\n",
      "1875/1875 [==============================] - 5s 3ms/step - loss: 0.9617 - accuracy: 0.6743 - val_loss: 0.5757 - val_accuracy: 0.8367\n",
      "Epoch 1/5\n",
      "1875/1875 [==============================] - 7s 3ms/step - loss: 0.9136 - accuracy: 0.6931 - val_loss: 0.2891 - val_accuracy: 0.9202\n",
      "Epoch 2/5\n",
      "1875/1875 [==============================] - 6s 3ms/step - loss: 0.4376 - accuracy: 0.8773 - val_loss: 0.2119 - val_accuracy: 0.9388\n",
      "Epoch 3/5\n",
      "1875/1875 [==============================] - 6s 3ms/step - loss: 0.3444 - accuracy: 0.9051 - val_loss: 0.1817 - val_accuracy: 0.9491\n",
      "Epoch 4/5\n",
      "1875/1875 [==============================] - 6s 3ms/step - loss: 0.3073 - accuracy: 0.9161 - val_loss: 0.1611 - val_accuracy: 0.9550\n",
      "Epoch 5/5\n",
      "1875/1875 [==============================] - 6s 3ms/step - loss: 0.2755 - accuracy: 0.9263 - val_loss: 0.1472 - val_accuracy: 0.9615\n",
      "Epoch 1/5\n",
      "1875/1875 [==============================] - 7s 3ms/step - loss: 0.7313 - accuracy: 0.7791 - val_loss: 0.2572 - val_accuracy: 0.9324\n",
      "Epoch 2/5\n",
      "1875/1875 [==============================] - 6s 3ms/step - loss: 0.5235 - accuracy: 0.8626 - val_loss: 0.2771 - val_accuracy: 0.9347\n",
      "Epoch 3/5\n",
      "1875/1875 [==============================] - 6s 3ms/step - loss: 0.4906 - accuracy: 0.8747 - val_loss: 0.2317 - val_accuracy: 0.9477\n",
      "Epoch 4/5\n",
      "1875/1875 [==============================] - 6s 3ms/step - loss: 0.4795 - accuracy: 0.8782 - val_loss: 0.2346 - val_accuracy: 0.9424\n",
      "Epoch 5/5\n",
      "1875/1875 [==============================] - 6s 3ms/step - loss: 0.4687 - accuracy: 0.8812 - val_loss: 0.2748 - val_accuracy: 0.9333\n",
      "Epoch 1/5\n",
      "1875/1875 [==============================] - 8s 3ms/step - loss: 0.6419 - accuracy: 0.8121 - val_loss: 0.2554 - val_accuracy: 0.9352\n",
      "Epoch 2/5\n",
      "1875/1875 [==============================] - 6s 3ms/step - loss: 0.4781 - accuracy: 0.8764 - val_loss: 0.2445 - val_accuracy: 0.9370\n",
      "Epoch 3/5\n",
      "1875/1875 [==============================] - 6s 3ms/step - loss: 0.4533 - accuracy: 0.8859 - val_loss: 0.2457 - val_accuracy: 0.9343\n",
      "Epoch 4/5\n",
      "1875/1875 [==============================] - 6s 3ms/step - loss: 0.4478 - accuracy: 0.8886 - val_loss: 0.2317 - val_accuracy: 0.9428\n",
      "Epoch 5/5\n",
      "1875/1875 [==============================] - 6s 3ms/step - loss: 0.4511 - accuracy: 0.8892 - val_loss: 0.2502 - val_accuracy: 0.9378\n",
      "Epoch 1/5\n",
      "1875/1875 [==============================] - 6s 3ms/step - loss: 2.3203 - accuracy: 0.1245 - val_loss: 2.2093 - val_accuracy: 0.2813\n",
      "Epoch 2/5\n",
      "1875/1875 [==============================] - 5s 3ms/step - loss: 2.0007 - accuracy: 0.2608 - val_loss: 1.2965 - val_accuracy: 0.5598\n",
      "Epoch 3/5\n",
      "1875/1875 [==============================] - 5s 3ms/step - loss: 1.4133 - accuracy: 0.4693 - val_loss: 0.8675 - val_accuracy: 0.7165\n",
      "Epoch 4/5\n",
      "1875/1875 [==============================] - 5s 3ms/step - loss: 1.1376 - accuracy: 0.5867 - val_loss: 0.6928 - val_accuracy: 0.7989\n",
      "Epoch 5/5\n",
      "1875/1875 [==============================] - 5s 3ms/step - loss: 0.9881 - accuracy: 0.6574 - val_loss: 0.5935 - val_accuracy: 0.8348\n",
      "Epoch 1/5\n",
      "1875/1875 [==============================] - 7s 3ms/step - loss: 0.8866 - accuracy: 0.7053 - val_loss: 0.2861 - val_accuracy: 0.9184\n",
      "Epoch 2/5\n",
      "1875/1875 [==============================] - 6s 3ms/step - loss: 0.4352 - accuracy: 0.8768 - val_loss: 0.2129 - val_accuracy: 0.9398\n",
      "Epoch 3/5\n",
      "1875/1875 [==============================] - 6s 3ms/step - loss: 0.3498 - accuracy: 0.9041 - val_loss: 0.1845 - val_accuracy: 0.9497\n",
      "Epoch 4/5\n",
      "1875/1875 [==============================] - 6s 3ms/step - loss: 0.3083 - accuracy: 0.9167 - val_loss: 0.1679 - val_accuracy: 0.9551\n",
      "Epoch 5/5\n",
      "1875/1875 [==============================] - 6s 3ms/step - loss: 0.2777 - accuracy: 0.9250 - val_loss: 0.1487 - val_accuracy: 0.9596\n",
      "Epoch 1/5\n",
      "1875/1875 [==============================] - 7s 3ms/step - loss: 0.7413 - accuracy: 0.7742 - val_loss: 0.2766 - val_accuracy: 0.9281\n",
      "Epoch 2/5\n",
      "1875/1875 [==============================] - 6s 3ms/step - loss: 0.5098 - accuracy: 0.8665 - val_loss: 0.2452 - val_accuracy: 0.9384\n",
      "Epoch 3/5\n",
      "1875/1875 [==============================] - 6s 3ms/step - loss: 0.4826 - accuracy: 0.8752 - val_loss: 0.2497 - val_accuracy: 0.9406\n",
      "Epoch 4/5\n",
      "1875/1875 [==============================] - 6s 3ms/step - loss: 0.4747 - accuracy: 0.8817 - val_loss: 0.2421 - val_accuracy: 0.9418\n",
      "Epoch 5/5\n",
      "1875/1875 [==============================] - 6s 3ms/step - loss: 0.4649 - accuracy: 0.8833 - val_loss: 0.2479 - val_accuracy: 0.9429\n",
      "Epoch 1/5\n",
      "1875/1875 [==============================] - 8s 3ms/step - loss: 0.6773 - accuracy: 0.7966 - val_loss: 0.2595 - val_accuracy: 0.9328\n",
      "Epoch 2/5\n",
      "1875/1875 [==============================] - 6s 3ms/step - loss: 0.4922 - accuracy: 0.8727 - val_loss: 0.2433 - val_accuracy: 0.9364\n",
      "Epoch 3/5\n",
      "1875/1875 [==============================] - 6s 3ms/step - loss: 0.4642 - accuracy: 0.8823 - val_loss: 0.2421 - val_accuracy: 0.9426\n",
      "Epoch 4/5\n",
      "1875/1875 [==============================] - 6s 3ms/step - loss: 0.4487 - accuracy: 0.8881 - val_loss: 0.2508 - val_accuracy: 0.9406\n",
      "Epoch 5/5\n",
      "1875/1875 [==============================] - 6s 3ms/step - loss: 0.4410 - accuracy: 0.8905 - val_loss: 0.2245 - val_accuracy: 0.9463\n",
      "Epoch 1/5\n",
      "1875/1875 [==============================] - 6s 3ms/step - loss: 2.2969 - accuracy: 0.1403 - val_loss: 2.0303 - val_accuracy: 0.3758\n",
      "Epoch 2/5\n",
      "1875/1875 [==============================] - 5s 3ms/step - loss: 1.8505 - accuracy: 0.3259 - val_loss: 1.1193 - val_accuracy: 0.5888\n",
      "Epoch 3/5\n",
      "1875/1875 [==============================] - 5s 3ms/step - loss: 1.3485 - accuracy: 0.5020 - val_loss: 0.8314 - val_accuracy: 0.7284\n",
      "Epoch 4/5\n",
      "1875/1875 [==============================] - 5s 3ms/step - loss: 1.1000 - accuracy: 0.6024 - val_loss: 0.7031 - val_accuracy: 0.7718\n",
      "Epoch 5/5\n",
      "1875/1875 [==============================] - 5s 3ms/step - loss: 0.9750 - accuracy: 0.6600 - val_loss: 0.6137 - val_accuracy: 0.8144\n",
      "Epoch 1/5\n",
      "1875/1875 [==============================] - 7s 3ms/step - loss: 0.9089 - accuracy: 0.7002 - val_loss: 0.2974 - val_accuracy: 0.9172\n",
      "Epoch 2/5\n",
      "1875/1875 [==============================] - 6s 3ms/step - loss: 0.4421 - accuracy: 0.8753 - val_loss: 0.2176 - val_accuracy: 0.9365\n",
      "Epoch 3/5\n",
      "1875/1875 [==============================] - 6s 3ms/step - loss: 0.3559 - accuracy: 0.9020 - val_loss: 0.1813 - val_accuracy: 0.9487\n",
      "Epoch 4/5\n",
      "1875/1875 [==============================] - 6s 3ms/step - loss: 0.3091 - accuracy: 0.9147 - val_loss: 0.1627 - val_accuracy: 0.9539\n",
      "Epoch 5/5\n",
      "1875/1875 [==============================] - 6s 3ms/step - loss: 0.2819 - accuracy: 0.9242 - val_loss: 0.1610 - val_accuracy: 0.9551\n",
      "Epoch 1/5\n",
      "1875/1875 [==============================] - 7s 3ms/step - loss: 0.7983 - accuracy: 0.7514 - val_loss: 0.3261 - val_accuracy: 0.9179\n",
      "Epoch 2/5\n",
      "1875/1875 [==============================] - 6s 3ms/step - loss: 0.5404 - accuracy: 0.8590 - val_loss: 0.2920 - val_accuracy: 0.9279\n",
      "Epoch 3/5\n",
      "1875/1875 [==============================] - 6s 3ms/step - loss: 0.5108 - accuracy: 0.8719 - val_loss: 0.2561 - val_accuracy: 0.9363\n",
      "Epoch 4/5\n",
      "1875/1875 [==============================] - 6s 3ms/step - loss: 0.4924 - accuracy: 0.8766 - val_loss: 0.2635 - val_accuracy: 0.9416\n",
      "Epoch 5/5\n",
      "1875/1875 [==============================] - 6s 3ms/step - loss: 0.4738 - accuracy: 0.8831 - val_loss: 0.2427 - val_accuracy: 0.9431\n",
      "Epoch 1/5\n",
      "1875/1875 [==============================] - 12s 4ms/step - loss: 0.6526 - accuracy: 0.8072 - val_loss: 0.2573 - val_accuracy: 0.9318\n",
      "Epoch 2/5\n",
      "1875/1875 [==============================] - 6s 3ms/step - loss: 0.4840 - accuracy: 0.8740 - val_loss: 0.2420 - val_accuracy: 0.9405\n",
      "Epoch 3/5\n",
      "1875/1875 [==============================] - 7s 3ms/step - loss: 0.4543 - accuracy: 0.8864 - val_loss: 0.2460 - val_accuracy: 0.9421\n",
      "Epoch 4/5\n",
      "1875/1875 [==============================] - 7s 3ms/step - loss: 0.4549 - accuracy: 0.8863 - val_loss: 0.2239 - val_accuracy: 0.9449\n",
      "Epoch 5/5\n",
      "1875/1875 [==============================] - 6s 3ms/step - loss: 0.4444 - accuracy: 0.8910 - val_loss: 0.2389 - val_accuracy: 0.9472\n",
      "Epoch 1/5\n",
      "1875/1875 [==============================] - 6s 3ms/step - loss: 2.3080 - accuracy: 0.1334 - val_loss: 2.1904 - val_accuracy: 0.3324\n",
      "Epoch 2/5\n",
      "1875/1875 [==============================] - 5s 3ms/step - loss: 1.8741 - accuracy: 0.3064 - val_loss: 1.1420 - val_accuracy: 0.6447\n",
      "Epoch 3/5\n",
      "1875/1875 [==============================] - 5s 3ms/step - loss: 1.3217 - accuracy: 0.5159 - val_loss: 0.7706 - val_accuracy: 0.7552\n",
      "Epoch 4/5\n",
      "1875/1875 [==============================] - 5s 3ms/step - loss: 1.0553 - accuracy: 0.6314 - val_loss: 0.6317 - val_accuracy: 0.8095\n",
      "Epoch 5/5\n",
      "1875/1875 [==============================] - 6s 3ms/step - loss: 0.9169 - accuracy: 0.6917 - val_loss: 0.5523 - val_accuracy: 0.8415\n",
      "Epoch 1/5\n",
      "1875/1875 [==============================] - 7s 3ms/step - loss: 0.8662 - accuracy: 0.7131 - val_loss: 0.2842 - val_accuracy: 0.9238\n",
      "Epoch 2/5\n",
      "1875/1875 [==============================] - 6s 3ms/step - loss: 0.4329 - accuracy: 0.8782 - val_loss: 0.2159 - val_accuracy: 0.9385\n",
      "Epoch 3/5\n",
      "1875/1875 [==============================] - 6s 3ms/step - loss: 0.3526 - accuracy: 0.9022 - val_loss: 0.1875 - val_accuracy: 0.9470\n",
      "Epoch 4/5\n",
      "1875/1875 [==============================] - 6s 3ms/step - loss: 0.3042 - accuracy: 0.9166 - val_loss: 0.1676 - val_accuracy: 0.9534\n",
      "Epoch 5/5\n",
      "1875/1875 [==============================] - 6s 3ms/step - loss: 0.2769 - accuracy: 0.9254 - val_loss: 0.1482 - val_accuracy: 0.9593\n",
      "Epoch 1/5\n",
      "1875/1875 [==============================] - 7s 3ms/step - loss: 0.8109 - accuracy: 0.7438 - val_loss: 0.3014 - val_accuracy: 0.9269\n",
      "Epoch 2/5\n",
      "1875/1875 [==============================] - 6s 3ms/step - loss: 0.5311 - accuracy: 0.8602 - val_loss: 0.2649 - val_accuracy: 0.9343\n",
      "Epoch 3/5\n",
      "1875/1875 [==============================] - 6s 3ms/step - loss: 0.4813 - accuracy: 0.8785 - val_loss: 0.2647 - val_accuracy: 0.9406\n",
      "Epoch 4/5\n",
      "1875/1875 [==============================] - 6s 3ms/step - loss: 0.4812 - accuracy: 0.8774 - val_loss: 0.2489 - val_accuracy: 0.9421\n",
      "Epoch 5/5\n",
      "1875/1875 [==============================] - 6s 3ms/step - loss: 0.4735 - accuracy: 0.8797 - val_loss: 0.2395 - val_accuracy: 0.9460\n",
      "Epoch 1/5\n",
      "1875/1875 [==============================] - 8s 3ms/step - loss: 0.6385 - accuracy: 0.8165 - val_loss: 0.2660 - val_accuracy: 0.9326\n",
      "Epoch 2/5\n",
      "1875/1875 [==============================] - 6s 3ms/step - loss: 0.4790 - accuracy: 0.8761 - val_loss: 0.2506 - val_accuracy: 0.9392\n",
      "Epoch 3/5\n",
      "1875/1875 [==============================] - 6s 3ms/step - loss: 0.4550 - accuracy: 0.8862 - val_loss: 0.2382 - val_accuracy: 0.9434\n",
      "Epoch 4/5\n",
      "1875/1875 [==============================] - 6s 3ms/step - loss: 0.4471 - accuracy: 0.8878 - val_loss: 0.2515 - val_accuracy: 0.9434\n",
      "Epoch 5/5\n",
      "1875/1875 [==============================] - 6s 3ms/step - loss: 0.4267 - accuracy: 0.8931 - val_loss: 0.2451 - val_accuracy: 0.9438\n",
      "Test accuracy of Model0: 0.837360006570816\n",
      "Test accuracy of Model1: 0.9588399887084961\n",
      "Test accuracy of Model2: 0.9422699928283691\n",
      "Test accuracy of Model3: 0.9452899992465973\n"
     ]
    }
   ],
   "source": [
    "avg_accuracies=np.array([0.,0.,0.,0.])\n",
    "trainers=[train,train1,train2,train3]\n",
    "for _ in range(10):\n",
    "    for i in range(4):\n",
    "        score=trainers[i]()\n",
    "        avg_accuracies[i] += score\n",
    "avg_accuracies /= 10\n",
    "for i in range(4):\n",
    "    print(f'Test accuracy of Model{i}: {avg_accuracies[i]}')\n"
   ]
  },
  {
   "cell_type": "markdown",
   "id": "517a18e9",
   "metadata": {},
   "source": [
    "<h2> Hyper-parameter tuning of Keras models using Sklearn </h2>"
   ]
  },
  {
   "cell_type": "markdown",
   "id": "807e75ec",
   "metadata": {},
   "source": [
    "2.\tTune the hyperparameters using kerastuner to select the best learning rate among the set {0.1, 0.01, 0.15} with batch size varying between {4,8,16} and first hidden layer neurons varying between 250 to 260 with a step value of 2. 2nd, 3rd and 4th hidden layer contains 16, 8, 4 numbers of neurons respectively. The four layers have activation functions sigmoid, tanh, relu, and selu, respectively. Use optimizer as SGD and find the best hyperparameters to predict the MNIST test data."
   ]
  },
  {
   "cell_type": "code",
   "execution_count": 43,
   "id": "f5407bd4",
   "metadata": {},
   "outputs": [
    {
     "name": "stdout",
     "output_type": "stream",
     "text": [
      "\n"
     ]
    }
   ],
   "source": [
    "print()"
   ]
  },
  {
   "cell_type": "code",
   "execution_count": 45,
   "id": "d76890e5",
   "metadata": {},
   "outputs": [],
   "source": [
    "import keras_tuner"
   ]
  },
  {
   "cell_type": "code",
   "execution_count": 48,
   "id": "da99d8cd",
   "metadata": {},
   "outputs": [
    {
     "data": {
      "text/plain": [
       "[250, 252, 254, 256, 258, 260]"
      ]
     },
     "execution_count": 48,
     "metadata": {},
     "output_type": "execute_result"
    }
   ],
   "source": [
    "units=[i for i in range(250,261,2)]\n",
    "units"
   ]
  },
  {
   "cell_type": "code",
   "execution_count": 101,
   "id": "32fff622",
   "metadata": {},
   "outputs": [],
   "source": [
    "def train_tuner(hp):\n",
    "    model5 = Sequential()\n",
    "    model5.add(Dense(units=hp.Choice('units',units), activation='sigmoid'))\n",
    "    model5.add(Dense(16, activation='tanh'))\n",
    "    model5.add(Dense(8, activation='relu'))\n",
    "    model5.add(Dense(4, activation='selu'))\n",
    "    model5.add(Dense(10, activation='softmax'))\n",
    "    batch_size=hp.Choice('batch_size',[4,8,16])\n",
    "    learning_rate = hp.Choice('learning_rate',[0.1,0.01,0.15])\n",
    "    model5.compile(loss='categorical_crossentropy', optimizer=keras.optimizers.SGD(learning_rate=learning_rate),metrics=[\"accuracy\"])\n",
    "    return model5\n"
   ]
  },
  {
   "cell_type": "code",
   "execution_count": 102,
   "id": "fb1c091e",
   "metadata": {},
   "outputs": [
    {
     "data": {
      "text/plain": [
       "<keras.src.engine.sequential.Sequential at 0x255a3c98e20>"
      ]
     },
     "execution_count": 102,
     "metadata": {},
     "output_type": "execute_result"
    }
   ],
   "source": [
    "train_tuner(keras_tuner.HyperParameters())"
   ]
  },
  {
   "cell_type": "code",
   "execution_count": 103,
   "id": "cc49529b",
   "metadata": {},
   "outputs": [],
   "source": [
    "tuner = keras_tuner.RandomSearch(hypermodel=train0_tuner,objective=\"val_accuracy\")"
   ]
  },
  {
   "cell_type": "code",
   "execution_count": 104,
   "id": "b3e1d551",
   "metadata": {},
   "outputs": [
    {
     "name": "stdout",
     "output_type": "stream",
     "text": [
      "Search space summary\n",
      "Default search space size: 3\n",
      "units (Choice)\n",
      "{'default': 250, 'conditions': [], 'values': [250, 252, 254, 256, 258, 260], 'ordered': True}\n",
      "batch_size (Choice)\n",
      "{'default': 4, 'conditions': [], 'values': [4, 8, 16], 'ordered': True}\n",
      "learning_rate (Choice)\n",
      "{'default': 0.1, 'conditions': [], 'values': [0.1, 0.01, 0.15], 'ordered': True}\n"
     ]
    }
   ],
   "source": [
    "tuner.search_space_summary()"
   ]
  },
  {
   "cell_type": "code",
   "execution_count": 105,
   "id": "890dac81",
   "metadata": {},
   "outputs": [
    {
     "name": "stdout",
     "output_type": "stream",
     "text": [
      "Trial 10 Complete [00h 00m 18s]\n",
      "val_accuracy: 0.9409999847412109\n",
      "\n",
      "Best val_accuracy So Far: 0.9487000107765198\n",
      "Total elapsed time: 00h 02m 56s\n"
     ]
    }
   ],
   "source": [
    "tuner.search(X_train, Y_train, epochs=3, validation_data=(X_test, Y_test))"
   ]
  },
  {
   "cell_type": "code",
   "execution_count": 110,
   "id": "289267f7",
   "metadata": {},
   "outputs": [
    {
     "name": "stdout",
     "output_type": "stream",
     "text": [
      "Results summary\n",
      "Results in .\\untitled_project\n",
      "Showing 10 best trials\n",
      "Objective(name=\"val_accuracy\", direction=\"max\")\n",
      "\n",
      "Trial 07 summary\n",
      "Hyperparameters:\n",
      "units: 252\n",
      "batch_size: 4\n",
      "learning_rate: 0.15\n",
      "Score: 0.9487000107765198\n",
      "\n",
      "Trial 04 summary\n",
      "Hyperparameters:\n",
      "units: 252\n",
      "batch_size: 8\n",
      "learning_rate: 0.15\n",
      "Score: 0.9433000087738037\n",
      "\n",
      "Trial 09 summary\n",
      "Hyperparameters:\n",
      "units: 260\n",
      "batch_size: 4\n",
      "learning_rate: 0.15\n",
      "Score: 0.9409999847412109\n",
      "\n",
      "Trial 05 summary\n",
      "Hyperparameters:\n",
      "units: 254\n",
      "batch_size: 4\n",
      "learning_rate: 0.1\n",
      "Score: 0.9369000196456909\n",
      "\n",
      "Trial 03 summary\n",
      "Hyperparameters:\n",
      "units: 252\n",
      "batch_size: 8\n",
      "learning_rate: 0.1\n",
      "Score: 0.9325000047683716\n",
      "\n",
      "Trial 08 summary\n",
      "Hyperparameters:\n",
      "units: 258\n",
      "batch_size: 16\n",
      "learning_rate: 0.1\n",
      "Score: 0.9276999831199646\n",
      "\n",
      "Trial 01 summary\n",
      "Hyperparameters:\n",
      "units: 256\n",
      "batch_size: 4\n",
      "learning_rate: 0.01\n",
      "Score: 0.8496000170707703\n",
      "\n",
      "Trial 02 summary\n",
      "Hyperparameters:\n",
      "units: 260\n",
      "batch_size: 8\n",
      "learning_rate: 0.01\n",
      "Score: 0.847100019454956\n",
      "\n",
      "Trial 06 summary\n",
      "Hyperparameters:\n",
      "units: 250\n",
      "batch_size: 4\n",
      "learning_rate: 0.01\n",
      "Score: 0.8066999912261963\n",
      "\n",
      "Trial 00 summary\n",
      "Hyperparameters:\n",
      "units: 256\n",
      "batch_size: 4\n",
      "learning_rate: 0.15\n",
      "Score: 0.11349999904632568\n"
     ]
    }
   ],
   "source": [
    "tuner.results_summary()"
   ]
  },
  {
   "cell_type": "code",
   "execution_count": 115,
   "id": "73e09385",
   "metadata": {},
   "outputs": [
    {
     "name": "stdout",
     "output_type": "stream",
     "text": [
      "Epoch 1/20\n",
      "2188/2188 [==============================] - 6s 2ms/step - loss: 0.6590 - accuracy: 0.7898\n",
      "Epoch 2/20\n",
      "2188/2188 [==============================] - 5s 2ms/step - loss: 0.2918 - accuracy: 0.9202\n",
      "Epoch 3/20\n",
      "2188/2188 [==============================] - 5s 2ms/step - loss: 0.2056 - accuracy: 0.9443\n",
      "Epoch 4/20\n",
      "2188/2188 [==============================] - 5s 2ms/step - loss: 0.1581 - accuracy: 0.9560\n",
      "Epoch 5/20\n",
      "2188/2188 [==============================] - 5s 2ms/step - loss: 0.1282 - accuracy: 0.9639\n",
      "Epoch 6/20\n",
      "2188/2188 [==============================] - 5s 2ms/step - loss: 0.1051 - accuracy: 0.9709\n",
      "Epoch 7/20\n",
      "2188/2188 [==============================] - 5s 2ms/step - loss: 0.0927 - accuracy: 0.9736\n",
      "Epoch 8/20\n",
      "2188/2188 [==============================] - 5s 2ms/step - loss: 0.0771 - accuracy: 0.9786\n",
      "Epoch 9/20\n",
      "2188/2188 [==============================] - 5s 2ms/step - loss: 0.0677 - accuracy: 0.9799\n",
      "Epoch 10/20\n",
      "2188/2188 [==============================] - 5s 2ms/step - loss: 0.0615 - accuracy: 0.9824\n",
      "Epoch 11/20\n",
      "2188/2188 [==============================] - 5s 2ms/step - loss: 0.0538 - accuracy: 0.9851\n",
      "Epoch 12/20\n",
      "2188/2188 [==============================] - 5s 2ms/step - loss: 0.0479 - accuracy: 0.9858\n",
      "Epoch 13/20\n",
      "2188/2188 [==============================] - 5s 2ms/step - loss: 0.0433 - accuracy: 0.9873\n",
      "Epoch 14/20\n",
      "2188/2188 [==============================] - 6s 3ms/step - loss: 0.0384 - accuracy: 0.9889\n",
      "Epoch 15/20\n",
      "2188/2188 [==============================] - 6s 3ms/step - loss: 0.0341 - accuracy: 0.9898\n",
      "Epoch 16/20\n",
      "2188/2188 [==============================] - 5s 2ms/step - loss: 0.0299 - accuracy: 0.9915\n",
      "Epoch 17/20\n",
      "2188/2188 [==============================] - 5s 2ms/step - loss: 0.0291 - accuracy: 0.9915\n",
      "Epoch 18/20\n",
      "2188/2188 [==============================] - 5s 2ms/step - loss: 0.0251 - accuracy: 0.9925\n",
      "Epoch 19/20\n",
      "2188/2188 [==============================] - 5s 2ms/step - loss: 0.0256 - accuracy: 0.9926\n",
      "Epoch 20/20\n",
      "2188/2188 [==============================] - 5s 2ms/step - loss: 0.0238 - accuracy: 0.9929\n"
     ]
    },
    {
     "data": {
      "text/plain": [
       "<keras.src.callbacks.History at 0x255968dddc0>"
      ]
     },
     "execution_count": 115,
     "metadata": {},
     "output_type": "execute_result"
    }
   ],
   "source": [
    "best_hps = tuner.get_best_hyperparameters(5)\n",
    "\n",
    "model = train_tuner(best_hps[0])\n",
    "x_all = np.concatenate((X_train, X_test))\n",
    "y_all = np.concatenate((Y_train, Y_test))\n",
    "model.fit(x=x_all, y=y_all, epochs=20)\n"
   ]
  },
  {
   "cell_type": "code",
   "execution_count": 116,
   "id": "1d7f4118",
   "metadata": {},
   "outputs": [
    {
     "name": "stdout",
     "output_type": "stream",
     "text": [
      "313/313 [==============================] - 1s 2ms/step - loss: 0.0156 - accuracy: 0.9957\n"
     ]
    },
    {
     "data": {
      "text/plain": [
       "[0.01564526930451393, 0.9957000017166138]"
      ]
     },
     "execution_count": 116,
     "metadata": {},
     "output_type": "execute_result"
    }
   ],
   "source": [
    "model.evaluate(X_test,Y_test)"
   ]
  },
  {
   "cell_type": "code",
   "execution_count": null,
   "id": "425ff43e",
   "metadata": {},
   "outputs": [],
   "source": []
  }
 ],
 "metadata": {
  "kernelspec": {
   "display_name": "Python 3 (ipykernel)",
   "language": "python",
   "name": "python3"
  },
  "language_info": {
   "codemirror_mode": {
    "name": "ipython",
    "version": 3
   },
   "file_extension": ".py",
   "mimetype": "text/x-python",
   "name": "python",
   "nbconvert_exporter": "python",
   "pygments_lexer": "ipython3",
   "version": "3.9.13"
  }
 },
 "nbformat": 4,
 "nbformat_minor": 5
}
